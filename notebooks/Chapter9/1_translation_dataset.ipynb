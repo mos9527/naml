{
 "cells": [
  {
   "cell_type": "code",
   "execution_count": 30,
   "metadata": {},
   "outputs": [
    {
     "name": "stderr",
     "output_type": "stream",
     "text": [
      "[autoreload of naml.text failed: Traceback (most recent call last):\n",
      "  File \"c:\\Users\\mos9527\\naml\\venv\\Lib\\site-packages\\IPython\\extensions\\autoreload.py\", line 283, in check\n",
      "    superreload(m, reload, self.old_objects)\n",
      "  File \"c:\\Users\\mos9527\\naml\\venv\\Lib\\site-packages\\IPython\\extensions\\autoreload.py\", line 483, in superreload\n",
      "    module = reload(module)\n",
      "             ^^^^^^^^^^^^^^\n",
      "  File \"C:\\Users\\mos9527\\miniconda3\\Lib\\importlib\\__init__.py\", line 131, in reload\n",
      "    _bootstrap._exec(spec, module)\n",
      "  File \"<frozen importlib._bootstrap>\", line 866, in _exec\n",
      "  File \"<frozen importlib._bootstrap_external>\", line 999, in exec_module\n",
      "  File \"<frozen importlib._bootstrap>\", line 488, in _call_with_frames_removed\n",
      "  File \"C:\\Users\\mos9527\\naml\\naml\\text.py\", line 115, in <module>\n",
      "    from naml.sequence import seq_partition_sample_1D_sequential_iter\n",
      "ImportError: cannot import name 'seq_partition_sample_1D_sequential_iter' from 'naml.sequence' (C:\\Users\\mos9527\\naml\\naml\\sequence.py)\n",
      "]\n"
     ]
    },
    {
     "name": "stdout",
     "output_type": "stream",
     "text": [
      "The autoreload extension is already loaded. To reload it, use:\n",
      "  %reload_ext autoreload\n"
     ]
    },
    {
     "data": {
      "image/png": "[encoded data removed]",
      "text/plain": [
       "<Figure size 640x480 with 1 Axes>"
      ]
     },
     "metadata": {},
     "output_type": "display_data"
    }
   ],
   "source": [
    "%load_ext autoreload\n",
    "%autoreload 2\n",
    "from naml.dataset import Datasets, DatasetRemote\n",
    "from naml.text import tokenize_line\n",
    "datasets = Datasets(\"~/naml-data\")\n",
    "table = datasets.fetch(DatasetRemote(\n",
    "    \"fra-eng\", \"https://www.manythings.org/anki/fra-eng.zip\"\n",
    ")).as_zip().read('fra.txt').decode('utf-8').lower()\n",
    "\n",
    "num_examples = -1\n",
    "lines = table.split('\\n')[:num_examples]\n",
    "lines = [line.split('\\t')[:2] for line in lines]\n",
    "lines = [line for line in lines if len(line) == 2]\n",
    "src_words, target_words = [line[0] for line in lines], [line[-1] for line in lines]\n",
    "src_words = [list(tokenize_line(line, '!.:;?',' ')) for line in src_words]\n",
    "target_words = [list(tokenize_line(line, '!.:;?',' ')) for line in target_words]\n",
    "from naml import plot\n",
    "plot.histogram(\n",
    "    [[len(x) for x in src_words],[len(x) for x in target_words]],\n",
    "    legend=['source', 'target'],\n",
    "    title='Sentence Length',    \n",
    ")\n"
   ]
  },
  {
   "cell_type": "code",
   "execution_count": 31,
   "metadata": {},
   "outputs": [
    {
     "name": "stdout",
     "output_type": "stream",
     "text": [
      "13109\n"
     ]
    }
   ],
   "source": [
    "from naml.text import Vocabulary\n",
    "corpus = Vocabulary.to_corpus(src_words)\n",
    "vocab = Vocabulary(corpus, min_freq=2)\n",
    "print(len(vocab))"
   ]
  },
  {
   "cell_type": "code",
   "execution_count": 32,
   "metadata": {},
   "outputs": [
    {
     "name": "stdout",
     "output_type": "stream",
     "text": [
      "['go', '.']\n"
     ]
    },
    {
     "data": {
      "text/plain": [
       "tensor([46,  3,  1,  1,  1,  1,  1,  1,  1,  1])"
      ]
     },
     "execution_count": 32,
     "metadata": {},
     "output_type": "execute_result"
    }
   ],
   "source": [
    "print(src_words[0])\n",
    "vocab.truncate_pad(vocab.to_indices(src_words[0]), 10)"
   ]
  },
  {
   "cell_type": "code",
   "execution_count": 33,
   "metadata": {},
   "outputs": [
    {
     "name": "stdout",
     "output_type": "stream",
     "text": [
      "tensor([[46,  3,  1,  1,  1,  1,  1,  1],\n",
      "        [46,  3,  1,  1,  1,  1,  1,  1]])\n",
      "tensor([2, 2])\n",
      "tensor([[103,  35,   1,   1,   1,   1,   1,   1],\n",
      "        [821,   3,   1,   1,   1,   1,   1,   1]])\n",
      "tensor([2, 2])\n",
      "['go', '.']\n",
      "['va', '!']\n",
      "['go', '.']\n",
      "['marche', '.']\n"
     ]
    }
   ],
   "source": [
    "src_corpus, tgt_corpus = Vocabulary.to_corpus(src_words), Vocabulary.to_corpus(target_words)\n",
    "src_vocab, tgt_vocab = Vocabulary(src_corpus), Vocabulary(tgt_corpus)\n",
    "from naml.text import pair_vocab_batch_sample_iter\n",
    "\n",
    "for x, x_len, y, y_len in pair_vocab_batch_sample_iter(src_vocab, tgt_vocab, src_words, target_words, 2, 8):\n",
    "    print(x, x_len, y, y_len,sep='\\n')\n",
    "    for i in range(len(x)):\n",
    "        print(src_vocab.to_tokens(x[i][:x_len[i]]), tgt_vocab.to_tokens(y[i][:y_len[i]]),sep='\\n')\n",
    "    break\n",
    "    "
   ]
  }
 ],
 "metadata": {
  "kernelspec": {
   "display_name": "venv",
   "language": "python",
   "name": "python3"
  },
  "language_info": {
   "codemirror_mode": {
    "name": "ipython",
    "version": 3
   },
   "file_extension": ".py",
   "mimetype": "text/x-python",
   "name": "python",
   "nbconvert_exporter": "python",
   "pygments_lexer": "ipython3",
   "version": "3.12.8"
  }
 },
 "nbformat": 4,
 "nbformat_minor": 2
}
