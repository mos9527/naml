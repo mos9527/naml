{
 "cells": [
  {
   "cell_type": "code",
   "execution_count": 37,
   "metadata": {},
   "outputs": [
    {
     "name": "stdout",
     "output_type": "stream",
     "text": [
      "The autoreload extension is already loaded. To reload it, use:\n",
      "  %reload_ext autoreload\n"
     ]
    }
   ],
   "source": [
    "%load_ext autoreload\n",
    "%autoreload 2\n"
   ]
  },
  {
   "cell_type": "markdown",
   "metadata": {},
   "source": [
    "## Encoder\n",
    "We have a RNN where\n",
    "$$\n",
    "h_t = \\text{RNN}(x_t, h_{t-1})\n",
    "$$\n",
    "The encoder converts its hidden states $h$ to context vectors $c$ from all timesteps\n",
    "$$\n",
    "c = \\text{Encoder}(\\{h_1, h_2, \\ldots, h_T\\})\n",
    "$$"
   ]
  },
  {
   "cell_type": "code",
   "execution_count": 38,
   "metadata": {},
   "outputs": [
    {
     "data": {
      "text/plain": [
       "(torch.Size([7, 4, 16]), torch.Size([2, 4, 16]))"
      ]
     },
     "execution_count": 38,
     "metadata": {},
     "output_type": "execute_result"
    }
   ],
   "source": [
    "from naml.modules import torch, nn, optim, F\n",
    "from naml.modules.sequence import Seq2SeqEncoder\n",
    "\n",
    "encoder = Seq2SeqEncoder(10,8,16,2,0.0)\n",
    "encoder.eval()\n",
    "X = torch.zeros((4, 7), dtype=torch.long)\n",
    "H = encoder.begin_state(X.device, batch_size=4)\n",
    "Y, H = encoder(X)\n",
    "Y.shape, H.shape"
   ]
  },
  {
   "cell_type": "markdown",
   "metadata": {},
   "source": [
    "## Decoder\n",
    "The decoder is another RNN that takes hidden state $h_{t-1}$, output $y_{t-1}$, and context vector $c$ to produce hidden state $h_t$ and output $y_t$\n",
    "$$\n",
    "h_t = \\text{RNN}(y_{t-1}, h_{t-1}, c)\n",
    "$$"
   ]
  },
  {
   "cell_type": "code",
   "execution_count": 39,
   "metadata": {},
   "outputs": [
    {
     "data": {
      "text/plain": [
       "(torch.Size([4, 7, 10]), torch.Size([2, 4, 16]))"
      ]
     },
     "execution_count": 39,
     "metadata": {},
     "output_type": "execute_result"
    }
   ],
   "source": [
    "from naml.modules.sequence import Seq2SeqDecoder\n",
    "\n",
    "encoder = Seq2SeqEncoder(10,8,16,2,0)\n",
    "encoder.eval()\n",
    "decoder = Seq2SeqDecoder(10,8,16,2,0)\n",
    "decoder.eval()\n",
    "\n",
    "X = torch.zeros((4, 7), dtype=torch.long)\n",
    "\n",
    "Y, H = encoder(X)\n",
    "Y, H = decoder(X, H)\n",
    "Y.shape, H.shape"
   ]
  },
  {
   "cell_type": "markdown",
   "metadata": {},
   "source": [
    "## CEL with masking\n",
    "Masking would simply ignore loss at reserved tokens - defined by sequence lengths"
   ]
  },
  {
   "cell_type": "code",
   "execution_count": 40,
   "metadata": {},
   "outputs": [
    {
     "name": "stdout",
     "output_type": "stream",
     "text": [
      "tensor([[2.3026, 2.3026, 2.3026, 2.3026],\n",
      "        [2.3026, 2.3026, 2.3026, 2.3026],\n",
      "        [2.3026, 2.3026, 2.3026, 2.3026]])\n",
      "tensor([[2.3026, 2.3026, 2.3026, 2.3026],\n",
      "        [2.3026, 2.3026, 0.0000, 0.0000],\n",
      "        [0.0000, 0.0000, 0.0000, 0.0000]])\n",
      "tensor([2.3026, 1.1513, 0.0000])\n",
      "tensor([2.3026, 1.1513, 0.0000])\n"
     ]
    }
   ],
   "source": [
    "from naml.modules import torch, nn\n",
    "from naml.sequence import zero_one_mask\n",
    "logits = torch.ones((3, 4, 10)) # batch, step, vocab -> logit for index i\n",
    "target = torch.ones((3, 4)).long() # batch, step -> vocab index\n",
    "loss = nn.CrossEntropyLoss(reduction='none')\n",
    "\n",
    "M_l = loss(logits.permute(0, 2, 1), target)\n",
    "print(M_l)\n",
    "lens = torch.tensor([4, 2, 0])\n",
    "mask = zero_one_mask(M_l.shape, lens)\n",
    "M_l = M_l * mask\n",
    "print(M_l)\n",
    "print(M_l.mean(dim = 1))\n",
    "\n",
    "# With naml module\n",
    "from naml.modules.sequence import CELWithLengthMask\n",
    "loss = CELWithLengthMask()\n",
    "M_l = loss(logits, target, lens)\n",
    "print(M_l)"
   ]
  },
  {
   "cell_type": "markdown",
   "metadata": {},
   "source": [
    "## Training\n",
    "We need to append `<bos>` tokens to the beginning of the target sequences. Since it's `<pad>` tokens that are masked, we don't need to worry about `<eos>` tokens."
   ]
  },
  {
   "cell_type": "code",
   "execution_count": 41,
   "metadata": {},
   "outputs": [
    {
     "data": {
      "image/png": "[encoded data removed]",
      "text/plain": [
       "<Figure size 640x480 with 1 Axes>"
      ]
     },
     "metadata": {},
     "output_type": "display_data"
    },
    {
     "data": {
      "application/vnd.jupyter.widget-view+json": {
       "model_id": "ab48326b99d84f3f9cd355b0ddabd03c",
       "version_major": 2,
       "version_minor": 0
      },
      "text/plain": [
       "Loss:   0%|          | 0/300 [00:00<?, ?it/s]"
      ]
     },
     "metadata": {},
     "output_type": "display_data"
    },
    {
     "data": {
      "text/plain": [
       "<Figure size 640x480 with 0 Axes>"
      ]
     },
     "metadata": {},
     "output_type": "display_data"
    }
   ],
   "source": [
    "from naml.modules.sequence import train_seq2seq,EncoderDecoder\n",
    "from naml.text import Vocabulary\n",
    "\n",
    "embed_size, num_hiddens, num_layers, dropout = 32, 32, 2, 0.1\n",
    "batch_size, num_steps = 64, 10\n",
    "lr, num_epochs = 0.005, 300\n",
    "\n",
    "from naml.text import flatten\n",
    "from naml.dataset import Datasets\n",
    "from naml.dataset.nmt import load_nmt\n",
    "datasets = Datasets(\"~/naml-data\")\n",
    "src_words, target_words = load_nmt(datasets, 'fra', 'eng', max_examples=500)\n",
    "src_vocab, tgt_vocab = Vocabulary(flatten(src_words)), Vocabulary(flatten(target_words))\n",
    "encoder = Seq2SeqEncoder(len(src_vocab), embed_size, num_hiddens, num_layers, dropout)\n",
    "decoder = Seq2SeqDecoder(len(tgt_vocab), embed_size, num_hiddens, num_layers, dropout)\n",
    "net = EncoderDecoder(encoder, decoder)\n",
    "train_seq2seq(net, lr, num_epochs, src_vocab, tgt_vocab, src_words, target_words, batch_size, num_steps)"
   ]
  },
  {
   "cell_type": "markdown",
   "metadata": {},
   "source": [
    "## Prediction\n",
    "We need to predict until `<eos>` token is generated - which is not in the target sequences."
   ]
  },
  {
   "cell_type": "markdown",
   "metadata": {},
   "source": [
    "### BLEU\n",
    "$$\n",
    "\\text{BLEU} = \\text{BP} \\times \\exp\\left(\\sum_{n=1}^N w_n \\log p_n\\right)\n",
    "$$"
   ]
  },
  {
   "cell_type": "code",
   "execution_count": 42,
   "metadata": {},
   "outputs": [
    {
     "data": {
      "text/plain": [
       "1.0"
      ]
     },
     "execution_count": 42,
     "metadata": {},
     "output_type": "execute_result"
    }
   ],
   "source": [
    "from naml.sequence import bleu\n",
    "bleu(\n",
    "    ['a','b','c','d','e'],\n",
    "    ['a','b','c','d','e'],    \n",
    ")"
   ]
  },
  {
   "cell_type": "code",
   "execution_count": null,
   "metadata": {},
   "outputs": [
    {
     "name": "stdout",
     "output_type": "stream",
     "text": [
      "i try . => j ' essaye . <= j ' essaye ., 1.0\n",
      "i won ! => je l ' ai emporté emporté ? <= je l ' ai emporté !, 0.7308015504567585\n",
      "i won . => j’ai gagné . <= j’ai gagné ., 1.0\n",
      "oh no ! => oh non ! <= oh non !, 1.0\n",
      "relax . => tranquille . <= tranquille ., 1.0\n"
     ]
    }
   ],
   "source": [
    "from naml.dataset.nmt import nmt_tokenizer\n",
    "from naml.modules.sequence import predict_seq2seq\n",
    "from naml.sequence import bleu\n",
    "def from_src_string(src : str):\n",
    "    src_indices = nmt_tokenizer(src.lower())\n",
    "    src_indices = src_vocab.to_indices(src_indices)    \n",
    "    src_indices = src_vocab.truncate_pad(src_indices, num_steps).long()    \n",
    "    return src_indices        \n",
    "for i in range(20,25):\n",
    "    src = ' '.join(src_words[i])\n",
    "    tgt = ' '.join(target_words[i])\n",
    "    pred = list(predict_seq2seq(net, from_src_string(src), tgt_vocab, num_steps))\n",
    "    score = bleu(target_words[i], pred)\n",
    "    print(f'{src} => {\" \".join(pred)} <= {tgt}, {score}')\n"
   ]
  }
 ],
 "metadata": {
  "kernelspec": {
   "display_name": "torch",
   "language": "python",
   "name": "python3"
  },
  "language_info": {
   "codemirror_mode": {
    "name": "ipython",
    "version": 3
   },
   "file_extension": ".py",
   "mimetype": "text/x-python",
   "name": "python",
   "nbconvert_exporter": "python",
   "pygments_lexer": "ipython3",
   "version": "3.10.16"
  }
 },
 "nbformat": 4,
 "nbformat_minor": 2
}
