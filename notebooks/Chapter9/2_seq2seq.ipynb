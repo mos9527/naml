{
 "cells": [
  {
   "cell_type": "code",
   "execution_count": 24,
   "metadata": {},
   "outputs": [
    {
     "name": "stdout",
     "output_type": "stream",
     "text": [
      "The autoreload extension is already loaded. To reload it, use:\n",
      "  %reload_ext autoreload\n"
     ]
    }
   ],
   "source": [
    "%load_ext autoreload\n",
    "%autoreload 2\n"
   ]
  },
  {
   "cell_type": "markdown",
   "metadata": {},
   "source": [
    "## Encoder\n",
    "We have a RNN where\n",
    "$$\n",
    "h_t = \\text{RNN}(x_t, h_{t-1})\n",
    "$$\n",
    "The encoder converts its hidden states $h$ to context vectors $c$ from all timesteps\n",
    "$$\n",
    "c = \\text{Encoder}(\\{h_1, h_2, \\ldots, h_T\\})\n",
    "$$"
   ]
  },
  {
   "cell_type": "code",
   "execution_count": 25,
   "metadata": {},
   "outputs": [
    {
     "data": {
      "text/plain": [
       "(torch.Size([7, 4, 16]), torch.Size([2, 4, 16]))"
      ]
     },
     "execution_count": 25,
     "metadata": {},
     "output_type": "execute_result"
    }
   ],
   "source": [
    "from naml.modules import torch, nn, optim, F\n",
    "from naml.modules.sequence import Seq2SeqEncoder\n",
    "\n",
    "encoder = Seq2SeqEncoder(10,8,16,2,0.0)\n",
    "encoder.eval()\n",
    "X = torch.zeros((4, 7), dtype=torch.long)\n",
    "H = encoder.begin_state(X.device, batch_size=4)\n",
    "Y, H = encoder(X)\n",
    "Y.shape, H.shape"
   ]
  },
  {
   "cell_type": "markdown",
   "metadata": {},
   "source": [
    "## Decoder\n",
    "The decoder is another RNN that takes hidden state $h_{t-1}$, output $y_{t-1}$, and context vector $c$ to produce hidden state $h_t$ and output $y_t$\n",
    "$$\n",
    "h_t = \\text{RNN}(y_{t-1}, h_{t-1}, c)\n",
    "$$"
   ]
  },
  {
   "cell_type": "code",
   "execution_count": 26,
   "metadata": {},
   "outputs": [
    {
     "data": {
      "text/plain": [
       "(torch.Size([4, 7, 10]), torch.Size([2, 4, 16]))"
      ]
     },
     "execution_count": 26,
     "metadata": {},
     "output_type": "execute_result"
    }
   ],
   "source": [
    "from naml.modules.sequence import Seq2SeqDecoder\n",
    "\n",
    "encoder = Seq2SeqEncoder(10,8,16,2,0)\n",
    "encoder.eval()\n",
    "decoder = Seq2SeqDecoder(10,8,16,2,0)\n",
    "decoder.eval()\n",
    "\n",
    "X = torch.zeros((4, 7), dtype=torch.long)\n",
    "\n",
    "Y, H = encoder(X)\n",
    "Y, H = decoder(X, H)\n",
    "Y.shape, H.shape"
   ]
  },
  {
   "cell_type": "markdown",
   "metadata": {},
   "source": [
    "## CEL with masking\n",
    "Masking would simply ignore loss at reserved tokens - defined by sequence lengths"
   ]
  },
  {
   "cell_type": "code",
   "execution_count": 27,
   "metadata": {},
   "outputs": [
    {
     "name": "stdout",
     "output_type": "stream",
     "text": [
      "tensor([[2.3026, 2.3026, 2.3026, 2.3026],\n",
      "        [2.3026, 2.3026, 2.3026, 2.3026],\n",
      "        [2.3026, 2.3026, 2.3026, 2.3026]])\n",
      "tensor([[2.3026, 2.3026, 2.3026, 2.3026],\n",
      "        [2.3026, 2.3026, 0.0000, 0.0000],\n",
      "        [0.0000, 0.0000, 0.0000, 0.0000]])\n",
      "tensor([2.3026, 1.1513, 0.0000])\n",
      "tensor([2.3026, 1.1513, 0.0000])\n"
     ]
    }
   ],
   "source": [
    "from naml.modules import torch, nn\n",
    "from naml.sequence import zero_one_mask\n",
    "logits = torch.ones((3, 4, 10)) # batch, step, vocab -> logit for index i\n",
    "target = torch.ones((3, 4)).long() # batch, step -> vocab index\n",
    "loss = nn.CrossEntropyLoss(reduction='none')\n",
    "\n",
    "M_l = loss(logits.permute(0, 2, 1), target)\n",
    "print(M_l)\n",
    "lens = torch.tensor([4, 2, 0])\n",
    "mask = zero_one_mask(M_l.shape, lens)\n",
    "M_l = M_l * mask\n",
    "print(M_l)\n",
    "print(M_l.mean(dim = 1))\n",
    "\n",
    "# With naml module\n",
    "from naml.modules.sequence import CELWithLengthMask\n",
    "loss = CELWithLengthMask()\n",
    "M_l = loss(logits, target, lens)\n",
    "print(M_l)"
   ]
  },
  {
   "cell_type": "markdown",
   "metadata": {},
   "source": [
    "## Training\n",
    "We need to append `<bos>` tokens to the beginning of the target sequences. Since it's `<pad>` tokens that are masked, we don't need to worry about `<eos>` tokens."
   ]
  },
  {
   "cell_type": "code",
   "execution_count": 28,
   "metadata": {},
   "outputs": [
    {
     "data": {
      "application/vnd.jupyter.widget-view+json": {
       "model_id": "833d04ec29644b168f0b75fa3ee0b801",
       "version_major": 2,
       "version_minor": 0
      },
      "text/plain": [
       "cmn-eng:   0%|          | 0.00/1.29M [00:00<?, ?B/s]"
      ]
     },
     "metadata": {},
     "output_type": "display_data"
    },
    {
     "data": {
      "image/png": "[encoded data removed]",
      "text/plain": [
       "<Figure size 640x480 with 1 Axes>"
      ]
     },
     "metadata": {},
     "output_type": "display_data"
    },
    {
     "data": {
      "application/vnd.jupyter.widget-view+json": {
       "model_id": "2bb5c62ab928442fa7253b39fb02c144",
       "version_major": 2,
       "version_minor": 0
      },
      "text/plain": [
       "Loss:   0%|          | 0/300 [00:00<?, ?it/s]"
      ]
     },
     "metadata": {},
     "output_type": "display_data"
    },
    {
     "data": {
      "text/plain": [
       "<Figure size 640x480 with 0 Axes>"
      ]
     },
     "metadata": {},
     "output_type": "display_data"
    }
   ],
   "source": [
    "from naml.modules import List\n",
    "from naml.text import Vocabulary, pair_vocab_batch_sample_iter\n",
    "from naml.util import run_epochs, ret_accumlated_loss\n",
    "from naml.modules.sequence import EncoderDecoder\n",
    "from naml.modules.init import init_weights_xavier_uniform\n",
    "from naml.modules.utils import grad_clip\n",
    "def train(\n",
    "        net : EncoderDecoder, lr, epochs, \n",
    "        src_vocab : Vocabulary, tgt_vocab : Vocabulary, \n",
    "        src_words : List[List[str]], tgt_words : List[List[str]],\n",
    "        batch_size: int, num_steps: int\n",
    "    ):\n",
    "    net.train() # Train mode\n",
    "    net.apply(init_weights_xavier_uniform)\n",
    "    opt = optim.Adam(net.parameters(), lr=lr) # XXX: Different optimizer?\n",
    "    loss = CELWithLengthMask()\n",
    "    data_iter = list(pair_vocab_batch_sample_iter(src_vocab, tgt_vocab, src_words, tgt_words,batch_size,num_steps))\n",
    "    @run_epochs(\"Loss\")\n",
    "    def run_epoch():\n",
    "        ret_loss = ret_accumlated_loss()\n",
    "        opt.zero_grad()\n",
    "        for x, x_len, y, y_len in data_iter:\n",
    "            bos = torch.Tensor(tgt_vocab.to_indices([\"<bos>\"] * y.shape[0])).long().reshape(-1,1)\n",
    "            y_in = torch.cat([bos, y[:, :-1]], 1) # XXX: Can we do this in data_iter instead?\n",
    "            y_hat, _ = net.forward(x, y_in)\n",
    "            l = loss.forward(y_hat, y, y_len)\n",
    "            l.sum().backward()            \n",
    "            grad_clip(net, 1)        \n",
    "            opt.step()\n",
    "            ret_loss.update(l.sum().detach(), y_len.sum())\n",
    "        return ret_loss\n",
    "    run_epoch(epochs)\n",
    "\n",
    "# TODO: Dropout\n",
    "embed_size, num_hiddens, num_layers, dropout = 32, 32, 2, 0.1\n",
    "batch_size, num_steps = 64, 10\n",
    "lr, num_epochs = 0.005, 300\n",
    "\n",
    "from naml.text import flatten\n",
    "from naml.dataset import Datasets\n",
    "from naml.dataset.nmt import load_nmt\n",
    "datasets = Datasets(\"~/naml-data\")\n",
    "src_words, target_words = load_nmt(datasets, 'cmn', 'eng', max_examples=500)\n",
    "\n",
    "src_vocab, tgt_vocab = Vocabulary(flatten(src_words)), Vocabulary(flatten(target_words))\n",
    "encoder = Seq2SeqEncoder(len(src_vocab), embed_size, num_hiddens, num_layers, dropout)\n",
    "decoder = Seq2SeqDecoder(len(tgt_vocab), embed_size, num_hiddens, num_layers, dropout)\n",
    "net = EncoderDecoder(encoder, decoder)\n",
    "train(net, lr, num_epochs, src_vocab, tgt_vocab, src_words, target_words, batch_size, num_steps)\n"
   ]
  },
  {
   "cell_type": "markdown",
   "metadata": {},
   "source": [
    "## Prediction\n",
    "We need to predict until `<eos>` token is generated - which is not in the target sequences."
   ]
  },
  {
   "cell_type": "code",
   "execution_count": null,
   "metadata": {},
   "outputs": [
    {
     "name": "stdout",
     "output_type": "stream",
     "text": [
      "保持安静！ 走開！ 滚。 . 。 . 當然 tom游泳。 tom游泳。 看那里。 \n",
      "保持安静！ 走開！ 滚。 . 。 . 當然 tom游泳。 tom游泳。 看那里。 \n",
      "你用跑的。 留着吧。 ! ? ? 。 。 。 。 tom游泳。 \n",
      "住手！ 出去！ ! ! ! 不可能！ 不可能！ 对不起。 对不起。 滾出去！ \n",
      "等一下！ ! ! 。 。 。 。 。 tom游泳。 . \n",
      "等一下！ ! ! 。 。 。 。 。 tom游泳。 . \n",
      "开始！ 开始！ 真的？ ! ! ? ? 。 。 。 \n",
      "耐心等着。 耐心等着。 滾！ 。 . . 我拍手。 我认识汤姆。 我认识汤姆。 我认识汤姆。 \n",
      "我试试。 我试试。 我很忙。 我是个男人。 我吃飽了。 我是个男人。 ! 。 。 。 \n",
      "我赢了。 我赢了。 我赢了。 . . . . 我们知道。 我们知道。 我们知道。 \n"
     ]
    }
   ],
   "source": [
    "from naml.dataset.nmt import nmt_tokenizer\n",
    "\n",
    "def predict(net : EncoderDecoder, src_sentence : str, src_vocab : Vocabulary, tgt_vocab : Vocabulary, num_steps : int):\n",
    "    net.eval()\n",
    "    src_tokens = nmt_tokenizer(src_sentence.lower()) + ['<eos>']    \n",
    "    src_tokens = src_vocab.to_indices(src_tokens)\n",
    "    # src_lens = torch.Tensor([len(src_tokens)])\n",
    "    src_tokens = src_vocab.truncate_pad(src_tokens, num_steps).long()\n",
    "    \n",
    "    X_enc = src_tokens.unsqueeze(0) # Only one batch -> [1, num_steps]\n",
    "    Y_enc, H_enc = net.encoder(X_enc)\n",
    "    H = H_enc\n",
    "\n",
    "    X_dec = torch.Tensor(tgt_vocab.to_indices([\"<bos>\"])).long().unsqueeze(0)    \n",
    "    for step in range(num_steps):\n",
    "        Y_hat, H = net.decoder(X_dec, H)\n",
    "        X_dec = Y_hat.argmax(dim=2)\n",
    "        pred = X_dec.squeeze(0).long().item()\n",
    "        yield tgt_vocab.to_tokens([pred])[0]\n",
    "\n",
    "for i in range(0,10):\n",
    "    src = ' '.join(src_words[i])\n",
    "    tgt = ' '.join(target_words[i])\n",
    "    pred = ' '.join(list(predict(net, src, src_vocab, tgt_vocab, num_steps)))\n",
    "    print(f\"Source\\t{src}\")\n",
    "    print(f\"Target\\t{tgt}\")\n",
    "    print(f\"Predict\\t{pred}\")\n",
    "\n"
   ]
  }
 ],
 "metadata": {
  "kernelspec": {
   "display_name": "torch",
   "language": "python",
   "name": "python3"
  },
  "language_info": {
   "codemirror_mode": {
    "name": "ipython",
    "version": 3
   },
   "file_extension": ".py",
   "mimetype": "text/x-python",
   "name": "python",
   "nbconvert_exporter": "python",
   "pygments_lexer": "ipython3",
   "version": "3.10.16"
  }
 },
 "nbformat": 4,
 "nbformat_minor": 2
}
