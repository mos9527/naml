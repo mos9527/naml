{
 "cells": [
  {
   "cell_type": "code",
   "execution_count": 1,
   "metadata": {},
   "outputs": [],
   "source": [
    "%load_ext autoreload\n",
    "%autoreload 2\n",
    "\n"
   ]
  },
  {
   "cell_type": "markdown",
   "metadata": {},
   "source": [
    "## Encoder\n",
    "We have a RNN where\n",
    "$$\n",
    "h_t = \\text{RNN}(x_t, h_{t-1})\n",
    "$$\n",
    "The encoder converts its hidden states $h$ to context vectors $c$ from all timesteps\n",
    "$$\n",
    "c = \\text{Encoder}(\\{h_1, h_2, \\ldots, h_T\\})\n",
    "$$"
   ]
  },
  {
   "cell_type": "code",
   "execution_count": 2,
   "metadata": {},
   "outputs": [
    {
     "data": {
      "text/plain": [
       "(torch.Size([7, 4, 16]), torch.Size([2, 4, 16]))"
      ]
     },
     "execution_count": 2,
     "metadata": {},
     "output_type": "execute_result"
    }
   ],
   "source": [
    "from naml.modules import torch, nn, optim, F\n",
    "from naml.modules.sequence import Seq2SeqEncoder\n",
    "\n",
    "encoder = Seq2SeqEncoder(10,8,16,2)\n",
    "encoder.eval()\n",
    "X = torch.zeros((4, 7), dtype=torch.long)\n",
    "H = encoder.begin_state(X.device, batch_size=4)\n",
    "Y, H = encoder(X)\n",
    "Y.shape, H.shape"
   ]
  },
  {
   "cell_type": "markdown",
   "metadata": {},
   "source": [
    "## Decoder\n",
    "The decoder is another RNN that takes hidden state $h_{t-1}$, output $y_{t-1}$, and context vector $c$ to produce hidden state $h_t$ and output $y_t$\n",
    "$$\n",
    "h_t = \\text{RNN}(y_{t-1}, h_{t-1}, c)\n",
    "$$"
   ]
  },
  {
   "cell_type": "code",
   "execution_count": 3,
   "metadata": {},
   "outputs": [
    {
     "data": {
      "text/plain": [
       "(torch.Size([4, 7, 10]), torch.Size([2, 4, 16]))"
      ]
     },
     "execution_count": 3,
     "metadata": {},
     "output_type": "execute_result"
    }
   ],
   "source": [
    "from naml.modules.sequence import Seq2SeqDecoder\n",
    "\n",
    "encoder = Seq2SeqEncoder(10,8,16,2)\n",
    "encoder.eval()\n",
    "decoder = Seq2SeqDecoder(10,8,16,2)\n",
    "decoder.eval()\n",
    "\n",
    "X = torch.zeros((4, 7), dtype=torch.long)\n",
    "\n",
    "Y, H = encoder(X)\n",
    "Y, H = decoder(X, H)\n",
    "Y.shape, H.shape"
   ]
  },
  {
   "cell_type": "markdown",
   "metadata": {},
   "source": [
    "## CEL with masking\n",
    "Masking would simply ignore loss at reserved tokens - defined by sequence lengths"
   ]
  },
  {
   "cell_type": "code",
   "execution_count": 4,
   "metadata": {},
   "outputs": [
    {
     "name": "stdout",
     "output_type": "stream",
     "text": [
      "tensor([[2.3026, 2.3026, 2.3026, 2.3026],\n",
      "        [2.3026, 2.3026, 2.3026, 2.3026],\n",
      "        [2.3026, 2.3026, 2.3026, 2.3026]])\n",
      "tensor([[2.3026, 2.3026, 2.3026, 2.3026],\n",
      "        [2.3026, 2.3026, 0.0000, 0.0000],\n",
      "        [0.0000, 0.0000, 0.0000, 0.0000]])\n",
      "tensor([2.3026, 1.1513, 0.0000])\n",
      "tensor([2.3026, 1.1513, 0.0000])\n"
     ]
    }
   ],
   "source": [
    "from naml.modules import torch, nn\n",
    "from naml.sequence import zero_one_mask\n",
    "logits = torch.ones((3, 4, 10)) # batch, step, vocab -> logit for index i\n",
    "target = torch.ones((3, 4)).long() # batch, step -> vocab index\n",
    "loss = nn.CrossEntropyLoss(reduction='none')\n",
    "\n",
    "M_l = loss(logits.permute(0, 2, 1), target)\n",
    "print(M_l)\n",
    "lens = torch.tensor([4, 2, 0])\n",
    "mask = zero_one_mask(M_l.shape, lens)\n",
    "M_l = M_l * mask\n",
    "print(M_l)\n",
    "print(M_l.mean(dim = 1))\n",
    "\n",
    "# With naml module\n",
    "from naml.modules.sequence import CELWithLengthMask\n",
    "loss = CELWithLengthMask()\n",
    "M_l = loss(logits, target, lens)\n",
    "print(M_l)"
   ]
  },
  {
   "cell_type": "code",
   "execution_count": 12,
   "metadata": {},
   "outputs": [
    {
     "name": "stdout",
     "output_type": "stream",
     "text": [
      "torch.Size([100, 10]) torch.Size([100]) torch.Size([100, 10]) torch.Size([100])\n",
      "torch.Size([128, 10]) torch.Size([128]) torch.Size([128, 10]) torch.Size([128])\n"
     ]
    },
    {
     "data": {
      "image/png": "[encoded data removed]",
      "text/plain": [
       "<Figure size 640x480 with 1 Axes>"
      ]
     },
     "metadata": {},
     "output_type": "display_data"
    },
    {
     "data": {
      "application/vnd.jupyter.widget-view+json": {
       "model_id": "c857532fc11d459580d313e7bc8bdc79",
       "version_major": 2,
       "version_minor": 0
      },
      "text/plain": [
       "  0%|          | 0/250 [00:00<?, ?it/s]"
      ]
     },
     "metadata": {},
     "output_type": "display_data"
    },
    {
     "data": {
      "text/plain": [
       "<Figure size 640x480 with 0 Axes>"
      ]
     },
     "metadata": {},
     "output_type": "display_data"
    }
   ],
   "source": [
    "from naml.modules import List\n",
    "from naml.text import Vocabulary, pair_vocab_batch_sample_iter\n",
    "from naml.util import run_epochs, ret_single_loss\n",
    "from naml.modules.sequence import EncoderDecoder\n",
    "def train(\n",
    "        net : EncoderDecoder, lr, epochs, \n",
    "        src_vocab : Vocabulary, tgt_vocab : Vocabulary, \n",
    "        src_words : List[List[str]], tgt_words : List[List[str]],\n",
    "        batch_size: int, num_steps: int\n",
    "    ):\n",
    "    # TODO: Xavier weight init\n",
    "    opt = optim.Adam(net.parameters(), lr=lr) # XXX: Different optimizer?\n",
    "    loss = CELWithLengthMask()\n",
    "    net.train() # Train mode\n",
    "    data_iter = list(pair_vocab_batch_sample_iter(src_vocab, tgt_vocab, src_words, tgt_words,batch_size,num_steps))\n",
    "    @run_epochs(\"Loss\")\n",
    "    def run_epoch():\n",
    "        opt.zero_grad()\n",
    "        ret_loss = ret_single_loss()\n",
    "        for x, x_len, y, y_len in data_iter:\n",
    "            bos = torch.Tensor(tgt_vocab.to_indices([\"<bos>\"] * y.shape[0])).long().reshape(-1,1)\n",
    "            y_in = torch.cat([bos, y[:, :-1]], 1) # XXX: Can we do this in data_iter instead?\n",
    "            y_hat, _ = net.forward(x, y_in)\n",
    "            l = loss.forward(y_hat, y, y_len)\n",
    "            l.sum().backward()            \n",
    "            # TODO: Grad clipping\n",
    "            opt.step()\n",
    "            ret_loss.update(l.sum().detach())\n",
    "        return ret_loss\n",
    "    run_epoch(epochs)\n",
    "\n",
    "embed_size, num_hiddens, num_layers, dropout = 32, 32, 2, 0.0\n",
    "batch_size, num_steps = 64, 10\n",
    "lr, num_epochs = 0.005, 250\n",
    "\n",
    "from naml.text import flatten\n",
    "from naml.dataset import Datasets\n",
    "from naml.dataset.nmt import load_nmt\n",
    "datasets = Datasets(\"~/naml-data\")\n",
    "src_words, target_words = load_nmt(datasets, 'fra', 'eng', max_examples=100)\n",
    "\n",
    "src_vocab, tgt_vocab = Vocabulary(flatten(src_words)), Vocabulary(flatten(target_words))\n",
    "encoder = Seq2SeqEncoder(len(src_vocab), embed_size, num_hiddens, num_layers)\n",
    "decoder = Seq2SeqDecoder(len(tgt_vocab), embed_size, num_hiddens, num_layers)\n",
    "net = EncoderDecoder(encoder, decoder)\n",
    "train(net, lr, num_epochs, src_vocab, tgt_vocab, src_words, target_words, batch_size, num_steps)\n"
   ]
  }
 ],
 "metadata": {
  "kernelspec": {
   "display_name": "torch",
   "language": "python",
   "name": "python3"
  },
  "language_info": {
   "codemirror_mode": {
    "name": "ipython",
    "version": 3
   },
   "file_extension": ".py",
   "mimetype": "text/x-python",
   "name": "python",
   "nbconvert_exporter": "python",
   "pygments_lexer": "ipython3",
   "version": "3.10.16"
  }
 },
 "nbformat": 4,
 "nbformat_minor": 2
}
