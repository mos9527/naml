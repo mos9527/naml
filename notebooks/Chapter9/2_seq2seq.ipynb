{
 "cells": [
  {
   "cell_type": "code",
   "execution_count": 1,
   "metadata": {},
   "outputs": [],
   "source": [
    "%load_ext autoreload\n",
    "%autoreload 2\n",
    "\n",
    "from naml.dataset import Datasets\n",
    "from naml.dataset.nmt import load_nmt\n",
    "datasets = Datasets(\"~/naml-data\")\n",
    "src_words, target_words = load_nmt(datasets, 'fra', 'eng')\n"
   ]
  },
  {
   "cell_type": "markdown",
   "metadata": {},
   "source": [
    "## Encoder\n",
    "We have a RNN where\n",
    "$$\n",
    "h_t = \\text{RNN}(x_t, h_{t-1})\n",
    "$$\n",
    "The encoder converts its hidden states $h$ to context vectors $c$ from all timesteps\n",
    "$$\n",
    "c = \\text{Encoder}(\\{h_1, h_2, \\ldots, h_T\\})\n",
    "$$"
   ]
  },
  {
   "cell_type": "code",
   "execution_count": null,
   "metadata": {},
   "outputs": [
    {
     "data": {
      "text/plain": [
       "(torch.Size([7, 4, 16]), torch.Size([2, 4, 16]))"
      ]
     },
     "execution_count": 8,
     "metadata": {},
     "output_type": "execute_result"
    }
   ],
   "source": [
    "from naml.modules import torch, nn, optim, F\n",
    "\n",
    "class Encoder(nn.Module):\n",
    "    # GRU for implementation\n",
    "    # This is a slightly modified version of RNN from the one from Chapter 8\n",
    "    def __init__(self, vocab_size, embed_size, num_hiddens, num_layers):\n",
    "        super().__init__()\n",
    "        self.vocab_size, self.embed_size, self.num_hiddens, self.num_layers = vocab_size, embed_size, num_hiddens, num_layers\n",
    "        self.embedding = nn.Embedding(vocab_size, embed_size)\n",
    "        self.rnn = nn.GRU(embed_size, num_hiddens, num_layers)\n",
    "        # self.dense = nn.Linear(num_hiddens, embed_size) \n",
    "        # Hidden states are used as is\n",
    "\n",
    "    def forward(self, X : torch.Tensor, H : torch.Tensor):\n",
    "        # X[batch_size, num_steps]\n",
    "        X = self.embedding(X.T)        \n",
    "        # X[num_steps, batch_size, embed_size]\n",
    "        Y, H = self.rnn(X, H)\n",
    "        # Y[num_steps, batch_size,num_hiddens], H[num_layers, batch_size, num_hiddens]\n",
    "        return Y, H\n",
    "    \n",
    "    def begin_state(self, device : torch.device, batch_size : int):\n",
    "        return torch.zeros((self.num_layers, batch_size, self.num_hiddens), device=device)\n",
    "\n",
    "encoder = Encoder(10,8,16,2)\n",
    "encoder.eval()\n",
    "X = torch.zeros((4, 7), dtype=torch.long)\n",
    "H = encoder.begin_state(X.device, batch_size=4)\n",
    "Y, H = encoder(X, H)\n",
    "Y.shape, H.shape"
   ]
  },
  {
   "cell_type": "markdown",
   "metadata": {},
   "source": [
    "## Decoder\n",
    "The decoder is another RNN that takes hidden state $h_{t-1}$, output $y_{t-1}$, and context vector $c$ to produce hidden state $h_t$ and output $y_t$\n",
    "$$\n",
    "h_t = \\text{RNN}(y_{t-1}, h_{t-1}, c)\n",
    "$$"
   ]
  },
  {
   "cell_type": "code",
   "execution_count": null,
   "metadata": {},
   "outputs": [
    {
     "data": {
      "text/plain": [
       "(torch.Size([4, 7, 10]), torch.Size([2, 4, 16]))"
      ]
     },
     "execution_count": 9,
     "metadata": {},
     "output_type": "execute_result"
    }
   ],
   "source": [
    "class Decoder(nn.Module):    \n",
    "    def __init__(self, vocab_size, embed_size, num_hiddens, num_layers):\n",
    "        super().__init__()\n",
    "        self.vocab_size, self.embed_size, self.num_hiddens, self.num_layers = vocab_size, embed_size, num_hiddens, num_layers\n",
    "        self.embedding = nn.Embedding(vocab_size, embed_size)\n",
    "        self.rnn = nn.GRU(embed_size + num_hiddens, num_hiddens, num_layers)\n",
    "        # [Embedding | Hidden]\n",
    "        self.dense = nn.Linear(num_hiddens, vocab_size) \n",
    "\n",
    "    def forward(self, X : torch.Tensor, H : torch.Tensor):\n",
    "        # X[batch_size, num_steps]\n",
    "        X = self.embedding(X.T)        \n",
    "        # X[num_steps, batch_size, embed_size]\n",
    "        C = H[-1].repeat(X.shape[0], 1, 1)\n",
    "        # C[num_steps, batch_size, num_hiddens]\n",
    "        XC = torch.cat((X, C), dim=2)        \n",
    "        Y, H = self.rnn(XC, H)\n",
    "        # Y[num_steps, batch_size,num_hiddens], H[num_layers, batch_size, num_hiddens]\n",
    "        Y = self.dense(Y)\n",
    "        # Y[num_steps, batch_size, vocab_size]\n",
    "        Y : torch.Tensor = Y.permute(1, 0, 2)\n",
    "        # Y[batch_size, num_steps, vocab_size]\n",
    "        return Y, H\n",
    "    \n",
    "    def begin_state(self, device : torch.device, batch_size : int):\n",
    "        return torch.zeros((self.num_layers, batch_size, self.num_hiddens), device=device)\n",
    "\n",
    "encoder = Encoder(10,8,16,2)\n",
    "encoder.eval()\n",
    "decoder = Decoder(10,8,16,2)\n",
    "decoder.eval()\n",
    "\n",
    "X = torch.zeros((4, 7), dtype=torch.long)\n",
    "H = encoder.begin_state(X.device, batch_size=4)   \n",
    "\n",
    "Y, H = encoder(X, H)\n",
    "Y, H = decoder(X, H)\n",
    "Y.shape, H.shape"
   ]
  },
  {
   "cell_type": "code",
   "execution_count": 33,
   "metadata": {},
   "outputs": [
    {
     "data": {
      "text/plain": [
       "tensor([[ True, False, False, False, False, False, False],\n",
       "        [ True,  True, False, False, False, False, False],\n",
       "        [ True,  True,  True, False, False, False, False],\n",
       "        [ True,  True,  True,  True, False, False, False]])"
      ]
     },
     "execution_count": 33,
     "metadata": {},
     "output_type": "execute_result"
    }
   ],
   "source": [
    "from naml.sequence import zero_one_mask\n",
    "size = (4,7)\n",
    "lens = torch.Tensor([1,2,3,4])\n",
    "zero_one_mask(size,lens)"
   ]
  }
 ],
 "metadata": {
  "kernelspec": {
   "display_name": "torch",
   "language": "python",
   "name": "python3"
  },
  "language_info": {
   "codemirror_mode": {
    "name": "ipython",
    "version": 3
   },
   "file_extension": ".py",
   "mimetype": "text/x-python",
   "name": "python",
   "nbconvert_exporter": "python",
   "pygments_lexer": "ipython3",
   "version": "3.10.16"
  }
 },
 "nbformat": 4,
 "nbformat_minor": 2
}
