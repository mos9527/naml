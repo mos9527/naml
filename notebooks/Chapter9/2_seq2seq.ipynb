{
 "cells": [
  {
   "cell_type": "code",
   "execution_count": 2,
   "metadata": {},
   "outputs": [
    {
     "name": "stdout",
     "output_type": "stream",
     "text": [
      "The autoreload extension is already loaded. To reload it, use:\n",
      "  %reload_ext autoreload\n"
     ]
    }
   ],
   "source": [
    "%load_ext autoreload\n",
    "%autoreload 2\n",
    "\n",
    "from naml.dataset import Datasets\n",
    "from naml.datasets.nmt import load_nmt\n",
    "datasets = Datasets(\"~/naml-data\")\n",
    "src_words, target_words = load_nmt(datasets, 'fra', 'eng')\n"
   ]
  },
  {
   "cell_type": "markdown",
   "metadata": {},
   "source": [
    "## Encoder\n",
    "We have a RNN where\n",
    "$$\n",
    "h_t = \\text{RNN}(x_t, h_{t-1})\n",
    "$$\n",
    "The encoder converts its hidden states $h$ to context vectors $c$ from all timesteps\n",
    "$$\n",
    "c = \\text{Encoder}(\\{c_1, c_2, \\ldots, c_T\\})\n",
    "$$"
   ]
  },
  {
   "cell_type": "code",
   "execution_count": null,
   "metadata": {},
   "outputs": [
    {
     "data": {
      "text/plain": [
       "torch.Size([7, 4, 16])"
      ]
     },
     "execution_count": 10,
     "metadata": {},
     "output_type": "execute_result"
    }
   ],
   "source": [
    "from naml.modules import torch, nn, optim, F\n",
    "\n",
    "class Encoder(nn.Module):\n",
    "    # GRU for implementation\n",
    "    # This is a slightly modified version of RNN from the one from Chapter 8\n",
    "    def __init__(self, vocab_size, embed_size, num_hiddens, num_layers):\n",
    "        super().__init__()\n",
    "        self.vocab_size, self.embed_size, self.num_hiddens, self.num_layers = vocab_size, embed_size, num_hiddens, num_layers\n",
    "        self.embedding = nn.Embedding(vocab_size, embed_size)\n",
    "        self.rnn = nn.GRU(embed_size, num_hiddens, num_layers)\n",
    "        # self.dense = nn.Linear(num_hiddens, embed_size) \n",
    "        # Hidden states are used as is\n",
    "\n",
    "    def forward(self, X : torch.Tensor, H : torch.Tensor):\n",
    "        # X[batch_size, num_steps]\n",
    "        X = self.embedding(X.T)        \n",
    "        # X[num_steps, batch_size, embed_size]\n",
    "        Y, H = self.rnn(X, H)\n",
    "        # Y[batch_size, num_steps, num_hiddens], H[num_layers, batch_size, num_hiddens]\n",
    "        return Y, H\n",
    "    \n",
    "    def begin_state(self, device : torch.device, batch_size : int):\n",
    "        return torch.zeros((self.num_layers, batch_size, self.num_hiddens), device=device)\n",
    "\n",
    "encoder = Encoder(10,8,16,2)\n",
    "encoder.eval()\n",
    "X = torch.zeros((4, 7), dtype=torch.long)\n",
    "H = encoder.begin_state(X.device, batch_size=4)\n",
    "Y, H = encoder(X, H)\n",
    "Y.shape"
   ]
  }
 ],
 "metadata": {
  "kernelspec": {
   "display_name": "torch",
   "language": "python",
   "name": "python3"
  },
  "language_info": {
   "codemirror_mode": {
    "name": "ipython",
    "version": 3
   },
   "file_extension": ".py",
   "mimetype": "text/x-python",
   "name": "python",
   "nbconvert_exporter": "python",
   "pygments_lexer": "ipython3",
   "version": "3.10.16"
  }
 },
 "nbformat": 4,
 "nbformat_minor": 2
}
