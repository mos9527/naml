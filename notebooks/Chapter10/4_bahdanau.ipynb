{
 "cells": [
  {
   "cell_type": "code",
   "execution_count": 76,
   "metadata": {},
   "outputs": [
    {
     "name": "stdout",
     "output_type": "stream",
     "text": [
      "The autoreload extension is already loaded. To reload it, use:\n",
      "  %reload_ext autoreload\n"
     ]
    }
   ],
   "source": [
    "%load_ext autoreload\n",
    "%autoreload 2"
   ]
  },
  {
   "cell_type": "markdown",
   "metadata": {},
   "source": [
    "## Bahdanau Attention\n",
    "$$c_{t'} = \\sum_{t=1}^{T_x} a(\\mathbf{q}_{t' - 1}, \\mathbf{h}_{t'}) \\mathbf{h}_t, \\text{where}\\ \\mathbf{c}\\ \\text{is the context,}\\ \\mathbf{q}\\ \\text{is the query,}\\ \\mathbf{h}\\ \\text{is the hidden state}$$\n",
    "- Notice $h$ serves as *both* the key and value\n",
    "- $a$ is the scoring function. The book used the Additive one"
   ]
  },
  {
   "cell_type": "code",
   "execution_count": 77,
   "metadata": {},
   "outputs": [
    {
     "data": {
      "text/plain": [
       "(torch.Size([4, 7, 10]),\n",
       " torch.Size([7, 4, 16]),\n",
       " torch.Size([2, 4, 16]),\n",
       " torch.Size([2, 4, 16]))"
      ]
     },
     "execution_count": 77,
     "metadata": {},
     "output_type": "execute_result"
    }
   ],
   "source": [
    "from naml.modules import torch\n",
    "from naml.modules.sequence import Seq2SeqAttentionDecoder, Seq2SeqEncoder\n",
    "\n",
    "encoder = Seq2SeqEncoder(10, 8, 16, 2, 0.0)\n",
    "# Implementation details here vvv\n",
    "decoder = Seq2SeqAttentionDecoder(10, 8, 16, 2, 0.0)\n",
    "encoder.eval(), decoder.eval()\n",
    "\n",
    "X = torch.zeros((4, 7)).long() # [batch_size, num_steps]\n",
    "Y_enc, H_enc = encoder(X)\n",
    "Y_dec, H_dec = decoder.forward(X, H_enc, Y_enc)\n",
    "Y_dec.shape, Y_enc.shape, H_dec.shape, H_enc.shape"
   ]
  },
  {
   "cell_type": "markdown",
   "metadata": {},
   "source": [
    "## Training & Prediction\n",
    "Stucture-wise, this is similar to the `seq2seq` one. Most of the code here are copied from the previous notebook."
   ]
  },
  {
   "cell_type": "code",
   "execution_count": null,
   "metadata": {},
   "outputs": [
    {
     "data": {
      "image/png": "[encoded data removed]",
      "text/plain": [
       "<Figure size 640x480 with 1 Axes>"
      ]
     },
     "metadata": {},
     "output_type": "display_data"
    },
    {
     "data": {
      "application/vnd.jupyter.widget-view+json": {
       "model_id": "602dbc589f3b42ae96f12116a273b9da",
       "version_major": 2,
       "version_minor": 0
      },
      "text/plain": [
       "Loss:   0%|          | 0/250 [00:00<?, ?it/s]"
      ]
     },
     "metadata": {},
     "output_type": "display_data"
    },
    {
     "data": {
      "text/plain": [
       "<Figure size 640x480 with 0 Axes>"
      ]
     },
     "metadata": {},
     "output_type": "display_data"
    }
   ],
   "source": [
    "from naml.modules.sequence import train_seq2seq, EncoderDecoder\n",
    "from naml.text import Vocabulary\n",
    "\n",
    "embed_size, num_hiddens, num_layers, dropout = 32, 32, 2, 0.1\n",
    "batch_size, num_steps = 64, 10\n",
    "lr, num_epochs = 0.005, 400\n",
    "\n",
    "from naml.text import flatten\n",
    "from naml.dataset import Datasets\n",
    "from naml.dataset.nmt import load_nmt\n",
    "datasets = Datasets(\"~/naml-data\")\n",
    "src_words, target_words = load_nmt(datasets, 'cmn', 'eng', max_examples=500)\n",
    "\n",
    "src_vocab, tgt_vocab = Vocabulary(flatten(src_words)), Vocabulary(flatten(target_words))\n",
    "encoder = Seq2SeqEncoder(len(src_vocab), embed_size, num_hiddens, num_layers, dropout)\n",
    "decoder = Seq2SeqAttentionDecoder(len(tgt_vocab), embed_size, num_hiddens, num_layers, dropout)\n",
    "net = EncoderDecoder(encoder, decoder)\n",
    "train_seq2seq(net, lr, num_epochs, src_vocab, tgt_vocab, src_words, target_words, batch_size, num_steps)\n"
   ]
  },
  {
   "cell_type": "code",
   "execution_count": null,
   "metadata": {},
   "outputs": [
    {
     "name": "stdout",
     "output_type": "stream",
     "text": [
      "thanks ! => 很棒！ <= 谢谢！, 0.0\n",
      "try it . => 试试吧。 <= 试试吧。, 1.0\n",
      "we try . => 我们来试试。 <= 我们来试试。, 1.0\n",
      "why me ? => 殺了他們 <= 为什么是我？, 0.0\n",
      "ask tom . => 去问汤姆。 <= 去问汤姆。, 1.0\n"
     ]
    },
    {
     "data": {
      "text/plain": [
       "'干的好！'"
      ]
     },
     "execution_count": 81,
     "metadata": {},
     "output_type": "execute_result"
    }
   ],
   "source": [
    "from naml.dataset.nmt import nmt_tokenizer\n",
    "from naml.modules.sequence import predict_seq2seq\n",
    "from naml.sequence import bleu\n",
    "def from_src_string(src : str):\n",
    "    src_indices = nmt_tokenizer(src.lower())\n",
    "    src_indices = src_vocab.to_indices(src_indices)    \n",
    "    src_indices = src_vocab.truncate_pad(src_indices, num_steps).long()    \n",
    "    return src_indices        \n",
    "for i in range(20,25):\n",
    "    src = ' '.join(src_words[i])\n",
    "    tgt = ' '.join(target_words[i])\n",
    "    pred = list(predict_seq2seq(net, from_src_string(src), tgt_vocab, num_steps))\n",
    "    score = bleu(target_words[i], pred)\n",
    "    print(f'{src} => {\" \".join(pred)} <= {tgt}, {score}')\n",
    "''.join(list(predict_seq2seq(net, from_src_string(\"try this\"), tgt_vocab, num_steps)))"
   ]
  }
 ],
 "metadata": {
  "kernelspec": {
   "display_name": "torch",
   "language": "python",
   "name": "python3"
  },
  "language_info": {
   "codemirror_mode": {
    "name": "ipython",
    "version": 3
   },
   "file_extension": ".py",
   "mimetype": "text/x-python",
   "name": "python",
   "nbconvert_exporter": "python",
   "pygments_lexer": "ipython3",
   "version": "3.10.16"
  }
 },
 "nbformat": 4,
 "nbformat_minor": 2
}
