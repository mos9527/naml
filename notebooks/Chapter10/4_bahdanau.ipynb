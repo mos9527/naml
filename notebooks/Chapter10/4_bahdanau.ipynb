{
 "cells": [
  {
   "cell_type": "code",
   "execution_count": null,
   "metadata": {},
   "outputs": [],
   "source": [
    "%load_ext autoreload\n",
    "%autoreload 2\n",
    "from naml.modules import torch, nn, optim\n",
    "from naml.util import run_epochs"
   ]
  },
  {
   "cell_type": "markdown",
   "metadata": {},
   "source": [
    "## Bahdanau Attention\n",
    "$$c_{t'} = \\sum_{t=1}^{T_x} a(\\mathbf{q}_{t' - 1}, \\mathbf{h}_{t'}) \\mathbf{h}_t, \\text{where}\\ \\mathbf{c}\\ \\text{is the context,}\\ \\mathbf{q}\\ \\text{is the query,}\\ \\mathbf{h}\\ \\text{is the hidden state}$$\n",
    "- Notice $h$ serves as *both* the key and value\n",
    "- $a$ is the scoring function. The book used the Additive one"
   ]
  },
  {
   "cell_type": "code",
   "execution_count": null,
   "metadata": {},
   "outputs": [],
   "source": [
    "from naml.modules.attention import AdditiveAttention\n",
    "\n",
    "class Decoder(nn.Module):\n",
    "    def __init__(self, n_vocab, n_embedding, n_hidden, n_layers, dropout_p):\n",
    "        super(Decoder, self).__init__()\n",
    "        self.attn = AdditiveAttention(n_hidden, n_hidden, n_hidden, dropout_p)\n",
    "\n",
    "        self.embedding = nn.Embedding(n_vocab, n_embedding)\n",
    "        self.rnn = nn.GRU(n_embedding)\n",
    "        self.fc = nn.Linear(n_hidden, n_vocab)\n",
    "\n",
    "    def forward(self, X : torch.Tensor, enc_output : torch.Tensor):\n",
    "        pass"
   ]
  }
 ],
 "metadata": {
  "kernelspec": {
   "display_name": "torch",
   "language": "python",
   "name": "python3"
  },
  "language_info": {
   "codemirror_mode": {
    "name": "ipython",
    "version": 3
   },
   "file_extension": ".py",
   "mimetype": "text/x-python",
   "name": "python",
   "nbconvert_exporter": "python",
   "pygments_lexer": "ipython3",
   "version": "3.10.16"
  }
 },
 "nbformat": 4,
 "nbformat_minor": 2
}
