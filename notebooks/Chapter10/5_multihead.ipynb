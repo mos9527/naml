{
 "cells": [
  {
   "cell_type": "code",
   "execution_count": 1,
   "metadata": {},
   "outputs": [],
   "source": [
    "%load_ext autoreload\n",
    "%autoreload 2"
   ]
  },
  {
   "cell_type": "markdown",
   "metadata": {},
   "source": [
    "## Multihead Attention\n",
    "We split the input into multiple heads and apply the attention mechanism to each head $h_i$.\n",
    "\n",
    "Afterwards cat them with a linear layer w/o bias.\n",
    "$$\n",
    "\\text{MultiHead}(Q, K, V) = W_o\n",
    "\\begin{bmatrix}\n",
    "h_1 \\\\\n",
    "h_2 \\\\\n",
    "\\vdots \\\\\n",
    "h_n\n",
    "\\end{bmatrix}\n",
    "$$"
   ]
  },
  {
   "cell_type": "code",
   "execution_count": 2,
   "metadata": {},
   "outputs": [
    {
     "data": {
      "text/plain": [
       "MultiheadAttention(\n",
       "  (W_q): Linear(in_features=100, out_features=100, bias=False)\n",
       "  (W_k): Linear(in_features=100, out_features=100, bias=False)\n",
       "  (W_v): Linear(in_features=100, out_features=100, bias=False)\n",
       "  (W_o): Linear(in_features=100, out_features=100, bias=False)\n",
       "  (attn): DotProductAttention(\n",
       "    (dropout): Dropout(p=0.5, inplace=False)\n",
       "  )\n",
       ")"
      ]
     },
     "execution_count": 2,
     "metadata": {},
     "output_type": "execute_result"
    }
   ],
   "source": [
    "from naml.modules.attention import MultiheadAttention\n",
    "n_hidden, n_heads = 100, 5\n",
    "attn = MultiheadAttention(n_hidden, n_hidden, n_hidden, n_hidden, 0.5)\n",
    "attn.eval()"
   ]
  },
  {
   "cell_type": "code",
   "execution_count": 3,
   "metadata": {},
   "outputs": [
    {
     "ename": "RuntimeError",
     "evalue": "Boolean value of Tensor with more than one value is ambiguous",
     "output_type": "error",
     "traceback": [
      "\u001b[0;31m---------------------------------------------------------------------------\u001b[0m",
      "\u001b[0;31mRuntimeError\u001b[0m                              Traceback (most recent call last)",
      "Cell \u001b[0;32mIn[3], line 6\u001b[0m\n\u001b[1;32m      4\u001b[0m Q \u001b[38;5;241m=\u001b[39m torch\u001b[38;5;241m.\u001b[39mones((batch_size, n_query, n_hidden))\n\u001b[1;32m      5\u001b[0m K \u001b[38;5;241m=\u001b[39m V \u001b[38;5;241m=\u001b[39m torch\u001b[38;5;241m.\u001b[39mones((batch_size, n_key, n_hidden))\n\u001b[0;32m----> 6\u001b[0m \u001b[43mattn\u001b[49m\u001b[38;5;241;43m.\u001b[39;49m\u001b[43mforward\u001b[49m\u001b[43m(\u001b[49m\u001b[43mQ\u001b[49m\u001b[43m,\u001b[49m\u001b[43m \u001b[49m\u001b[43mK\u001b[49m\u001b[43m,\u001b[49m\u001b[43m \u001b[49m\u001b[43mV\u001b[49m\u001b[43m,\u001b[49m\u001b[43m \u001b[49m\u001b[43mlens\u001b[49m\u001b[43m)\u001b[49m\u001b[38;5;241m.\u001b[39mshape\n",
      "File \u001b[0;32m~/naml/naml/modules/attention.py:80\u001b[0m, in \u001b[0;36mMultiheadAttention.forward\u001b[0;34m(self, q, k, v, lens)\u001b[0m\n\u001b[1;32m     78\u001b[0m q, k, v \u001b[38;5;241m=\u001b[39m \u001b[38;5;28mself\u001b[39m\u001b[38;5;241m.\u001b[39mtranspose_hidden(\u001b[38;5;28mself\u001b[39m\u001b[38;5;241m.\u001b[39mW_q(q)), \u001b[38;5;28mself\u001b[39m\u001b[38;5;241m.\u001b[39mtranspose_hidden(\u001b[38;5;28mself\u001b[39m\u001b[38;5;241m.\u001b[39mW_k(k)), \u001b[38;5;28mself\u001b[39m\u001b[38;5;241m.\u001b[39mtranspose_hidden(\u001b[38;5;28mself\u001b[39m\u001b[38;5;241m.\u001b[39mW_v(v))\n\u001b[1;32m     79\u001b[0m \u001b[38;5;66;03m# q[batch_size * n_heads, n_query, head_size], k[batch_size * n_heads, n_key, head_size], v[batch_size * n_heads, n_key, head_size]\u001b[39;00m\n\u001b[0;32m---> 80\u001b[0m \u001b[38;5;28;01mif\u001b[39;00m lens:\n\u001b[1;32m     81\u001b[0m     lens \u001b[38;5;241m=\u001b[39m lens\u001b[38;5;241m.\u001b[39mrepeat_interleave(\u001b[38;5;28mself\u001b[39m\u001b[38;5;241m.\u001b[39mnum_heads, dim\u001b[38;5;241m=\u001b[39m\u001b[38;5;241m0\u001b[39m)\n\u001b[1;32m     82\u001b[0m \u001b[38;5;28mself\u001b[39m\u001b[38;5;241m.\u001b[39mM_w \u001b[38;5;241m=\u001b[39m M_w \u001b[38;5;241m=\u001b[39m \u001b[38;5;28mself\u001b[39m\u001b[38;5;241m.\u001b[39mattn(q, k, v, lens)\n",
      "\u001b[0;31mRuntimeError\u001b[0m: Boolean value of Tensor with more than one value is ambiguous"
     ]
    }
   ],
   "source": [
    "from naml.modules import torch\n",
    "batch_size, n_query = 2, 4\n",
    "n_key, lens = 6, torch.Tensor([3,2])\n",
    "Q = torch.ones((batch_size, n_query, n_hidden))\n",
    "K = V = torch.ones((batch_size, n_key, n_hidden))\n",
    "attn.forward(Q, K, V, lens).shape"
   ]
  }
 ],
 "metadata": {
  "kernelspec": {
   "display_name": "torch",
   "language": "python",
   "name": "python3"
  },
  "language_info": {
   "codemirror_mode": {
    "name": "ipython",
    "version": 3
   },
   "file_extension": ".py",
   "mimetype": "text/x-python",
   "name": "python",
   "nbconvert_exporter": "python",
   "pygments_lexer": "ipython3",
   "version": "3.10.16"
  }
 },
 "nbformat": 4,
 "nbformat_minor": 2
}
