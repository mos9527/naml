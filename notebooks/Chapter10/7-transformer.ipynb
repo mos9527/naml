{
 "cells": [
  {
   "cell_type": "code",
   "execution_count": 16,
   "metadata": {},
   "outputs": [
    {
     "name": "stdout",
     "output_type": "stream",
     "text": [
      "The autoreload extension is already loaded. To reload it, use:\n",
      "  %reload_ext autoreload\n"
     ]
    }
   ],
   "source": [
    "%load_ext autoreload\n",
    "%autoreload 2"
   ]
  },
  {
   "cell_type": "markdown",
   "metadata": {},
   "source": [
    "## Transformer\n",
    "It's time.\n",
    "\n",
    "### Encoder Block\n",
    "Attention block with a FFN/MLP and add-norm."
   ]
  },
  {
   "cell_type": "code",
   "execution_count": 17,
   "metadata": {},
   "outputs": [],
   "source": [
    "from naml.modules import torch\n",
    "from naml.modules.transformer import EncoderBlock\n",
    "\n",
    "X = torch.ones((2,100,24))\n",
    "lens = torch.tensor([3,2])\n",
    "blk = EncoderBlock(24, 24, 24, 24, [100, 24], 24, 48,8, 0.5)\n",
    "blk.eval()\n",
    "Y_enc = blk.forward(X, lens)"
   ]
  },
  {
   "cell_type": "markdown",
   "metadata": {},
   "source": [
    "### Encoder\n",
    "Stack of encoder blocks with positional encoding."
   ]
  },
  {
   "cell_type": "code",
   "execution_count": 18,
   "metadata": {},
   "outputs": [
    {
     "data": {
      "text/plain": [
       "torch.Size([2, 100, 24])"
      ]
     },
     "execution_count": 18,
     "metadata": {},
     "output_type": "execute_result"
    }
   ],
   "source": [
    "from naml.modules.transformer import Encoder\n",
    "\n",
    "encoder = Encoder(200, 24, 24, 24, 24, [100, 24], 24, 48, 8, 0.5, 2)\n",
    "encoder.eval()\n",
    "encoder.forward(torch.ones((2,100)).long(), lens).shape"
   ]
  },
  {
   "cell_type": "markdown",
   "metadata": {},
   "source": [
    "### Decoder Block/Decoder\n",
    "Attention block with a FFN/MLP and add-norm.\n",
    "\n",
    "To ensure self regressive property, the decoder block has an additional attention block that attends to the encoder output."
   ]
  },
  {
   "cell_type": "code",
   "execution_count": null,
   "metadata": {},
   "outputs": [
    {
     "data": {
      "text/plain": [
       "torch.Size([2, 100, 24])"
      ]
     },
     "execution_count": 21,
     "metadata": {},
     "output_type": "execute_result"
    }
   ],
   "source": [
    "from naml.modules.transformer import DecoderBlock\n",
    "blk = DecoderBlock(24, 24, 24, 24, [100, 24], 24, 48, 8, 0.5)\n",
    "blk.eval()\n",
    "X = torch.ones((2,100,24))\n",
    "Y_dec, K = blk.forward(X, Y_enc, lens, None)\n",
    "Y_dec.shape"
   ]
  },
  {
   "cell_type": "markdown",
   "metadata": {},
   "source": [
    "### Training\n",
    "We'll use `seq2seq` training code again."
   ]
  },
  {
   "cell_type": "code",
   "execution_count": 26,
   "metadata": {},
   "outputs": [
    {
     "data": {
      "image/png": "[encoded data removed]",
      "text/plain": [
       "<Figure size 640x480 with 1 Axes>"
      ]
     },
     "metadata": {},
     "output_type": "display_data"
    },
    {
     "data": {
      "application/vnd.jupyter.widget-view+json": {
       "model_id": "3fd533ad827240e68828a9d746d88d53",
       "version_major": 2,
       "version_minor": 0
      },
      "text/plain": [
       "Loss:   0%|          | 0/200 [00:00<?, ?it/s]"
      ]
     },
     "metadata": {},
     "output_type": "display_data"
    },
    {
     "ename": "TypeError",
     "evalue": "Encoder.forward() missing 1 required positional argument: 'lens'",
     "output_type": "error",
     "traceback": [
      "\u001b[0;31m---------------------------------------------------------------------------\u001b[0m",
      "\u001b[0;31mTypeError\u001b[0m                                 Traceback (most recent call last)",
      "Cell \u001b[0;32mIn[26], line 22\u001b[0m\n\u001b[1;32m     18\u001b[0m net \u001b[38;5;241m=\u001b[39m EncoderDecoder(encoder, decoder)\n\u001b[1;32m     20\u001b[0m \u001b[38;5;28;01mfrom\u001b[39;00m\u001b[38;5;250m \u001b[39m\u001b[38;5;21;01mnaml\u001b[39;00m\u001b[38;5;21;01m.\u001b[39;00m\u001b[38;5;21;01mmodules\u001b[39;00m\u001b[38;5;21;01m.\u001b[39;00m\u001b[38;5;21;01msequence\u001b[39;00m\u001b[38;5;250m \u001b[39m\u001b[38;5;28;01mimport\u001b[39;00m train_seq2seq\n\u001b[0;32m---> 22\u001b[0m \u001b[43mtrain_seq2seq\u001b[49m\u001b[43m(\u001b[49m\u001b[43mnet\u001b[49m\u001b[43m,\u001b[49m\u001b[43m \u001b[49m\u001b[43mlr\u001b[49m\u001b[43m,\u001b[49m\u001b[43m \u001b[49m\u001b[43mepochs\u001b[49m\u001b[43m,\u001b[49m\u001b[43m \u001b[49m\u001b[43msrc_vocab\u001b[49m\u001b[43m,\u001b[49m\u001b[43m \u001b[49m\u001b[43mtgt_vocab\u001b[49m\u001b[43m,\u001b[49m\u001b[43m \u001b[49m\u001b[43msrc_words\u001b[49m\u001b[43m,\u001b[49m\u001b[43m \u001b[49m\u001b[43mtarget_words\u001b[49m\u001b[43m,\u001b[49m\u001b[43m \u001b[49m\u001b[43mbatch_size\u001b[49m\u001b[43m,\u001b[49m\u001b[43m \u001b[49m\u001b[43mnum_steps\u001b[49m\u001b[43m)\u001b[49m\n",
      "File \u001b[0;32m~/naml/naml/modules/sequence.py:162\u001b[0m, in \u001b[0;36mtrain_seq2seq\u001b[0;34m(net, lr, epochs, src_vocab, tgt_vocab, src_words, tgt_words, batch_size, num_steps)\u001b[0m\n\u001b[1;32m    160\u001b[0m         ret_loss\u001b[38;5;241m.\u001b[39mupdate(l\u001b[38;5;241m.\u001b[39msum()\u001b[38;5;241m.\u001b[39mdetach(), y_len\u001b[38;5;241m.\u001b[39msum())\n\u001b[1;32m    161\u001b[0m     \u001b[38;5;28;01mreturn\u001b[39;00m ret_loss\n\u001b[0;32m--> 162\u001b[0m \u001b[43mrun_epoch\u001b[49m\u001b[43m(\u001b[49m\u001b[43mepochs\u001b[49m\u001b[43m)\u001b[49m\n",
      "File \u001b[0;32m~/naml/naml/util.py:78\u001b[0m, in \u001b[0;36mrun_epochs.<locals>._wrapper.<locals>._inner\u001b[0;34m(n_epochs, *args, **kwargs)\u001b[0m\n\u001b[1;32m     75\u001b[0m         progress\u001b[38;5;241m.\u001b[39mupdate(\u001b[38;5;241m1\u001b[39m)\n\u001b[1;32m     76\u001b[0m         \u001b[38;5;28;01myield\u001b[39;00m acc\u001b[38;5;241m.\u001b[39mvalue\n\u001b[0;32m---> 78\u001b[0m \u001b[43msimple_animated\u001b[49m\u001b[43m(\u001b[49m\u001b[43m_generator\u001b[49m\u001b[43m(\u001b[49m\u001b[43m)\u001b[49m\u001b[43m,\u001b[49m\u001b[43m \u001b[49m\u001b[43mtitle\u001b[49m\u001b[38;5;241;43m=\u001b[39;49m\u001b[43mtitle\u001b[49m\u001b[43m)\u001b[49m\n",
      "File \u001b[0;32m~/naml/naml/plot.py:56\u001b[0m, in \u001b[0;36msimple_animated\u001b[0;34m(m, n_dim, x_lim_min, scale_x, scale_y, label_x, labels_y, title)\u001b[0m\n\u001b[1;32m     54\u001b[0m y_min, y_max \u001b[38;5;241m=\u001b[39m \u001b[38;5;28mfloat\u001b[39m(\u001b[38;5;124m\"\u001b[39m\u001b[38;5;124minf\u001b[39m\u001b[38;5;124m\"\u001b[39m), \u001b[38;5;28mfloat\u001b[39m(\u001b[38;5;124m\"\u001b[39m\u001b[38;5;124m-inf\u001b[39m\u001b[38;5;124m\"\u001b[39m)\n\u001b[1;32m     55\u001b[0m fig\u001b[38;5;241m.\u001b[39mlegend()\n\u001b[0;32m---> 56\u001b[0m \u001b[38;5;28;01mfor\u001b[39;00m smp \u001b[38;5;129;01min\u001b[39;00m m:\n\u001b[1;32m     57\u001b[0m     \u001b[38;5;28;01massert\u001b[39;00m \u001b[38;5;28mlen\u001b[39m(smp) \u001b[38;5;241m==\u001b[39m n_dim\n\u001b[1;32m     58\u001b[0m     px \u001b[38;5;241m=\u001b[39m np\u001b[38;5;241m.\u001b[39mappend(px, \u001b[38;5;28mlen\u001b[39m(px))\n",
      "File \u001b[0;32m~/naml/naml/util.py:72\u001b[0m, in \u001b[0;36mrun_epochs.<locals>._wrapper.<locals>._inner.<locals>._generator\u001b[0;34m()\u001b[0m\n\u001b[1;32m     70\u001b[0m progress \u001b[38;5;241m=\u001b[39m tqdm(total\u001b[38;5;241m=\u001b[39mn_epochs, desc\u001b[38;5;241m=\u001b[39mtitle)\n\u001b[1;32m     71\u001b[0m \u001b[38;5;28;01mfor\u001b[39;00m _ \u001b[38;5;129;01min\u001b[39;00m \u001b[38;5;28mrange\u001b[39m(n_epochs):\n\u001b[0;32m---> 72\u001b[0m     acc \u001b[38;5;241m=\u001b[39m \u001b[43mfn\u001b[49m\u001b[43m(\u001b[49m\u001b[38;5;241;43m*\u001b[39;49m\u001b[43margs\u001b[49m\u001b[43m,\u001b[49m\u001b[43m \u001b[49m\u001b[38;5;241;43m*\u001b[39;49m\u001b[38;5;241;43m*\u001b[39;49m\u001b[43mkwargs\u001b[49m\u001b[43m)\u001b[49m\n\u001b[1;32m     73\u001b[0m     \u001b[38;5;28;01massert\u001b[39;00m \u001b[38;5;28misinstance\u001b[39m(acc, ret_loss), \u001b[38;5;124m\"\u001b[39m\u001b[38;5;124mReturn value must be a `ret_loss` instance.\u001b[39m\u001b[38;5;124m\"\u001b[39m                                        \n\u001b[1;32m     74\u001b[0m     progress\u001b[38;5;241m.\u001b[39mdesc \u001b[38;5;241m=\u001b[39m \u001b[38;5;28mstr\u001b[39m(acc)\n",
      "File \u001b[0;32m~/naml/naml/modules/sequence.py:155\u001b[0m, in \u001b[0;36mtrain_seq2seq.<locals>.run_epoch\u001b[0;34m()\u001b[0m\n\u001b[1;32m    153\u001b[0m bos \u001b[38;5;241m=\u001b[39m torch\u001b[38;5;241m.\u001b[39mTensor(tgt_vocab\u001b[38;5;241m.\u001b[39mto_indices([\u001b[38;5;124m\"\u001b[39m\u001b[38;5;124m<bos>\u001b[39m\u001b[38;5;124m\"\u001b[39m] \u001b[38;5;241m*\u001b[39m y\u001b[38;5;241m.\u001b[39mshape[\u001b[38;5;241m0\u001b[39m]))\u001b[38;5;241m.\u001b[39mlong()\u001b[38;5;241m.\u001b[39mreshape(\u001b[38;5;241m-\u001b[39m\u001b[38;5;241m1\u001b[39m,\u001b[38;5;241m1\u001b[39m)\n\u001b[1;32m    154\u001b[0m y_in \u001b[38;5;241m=\u001b[39m torch\u001b[38;5;241m.\u001b[39mcat([bos, y[:, :\u001b[38;5;241m-\u001b[39m\u001b[38;5;241m1\u001b[39m]], \u001b[38;5;241m1\u001b[39m)\n\u001b[0;32m--> 155\u001b[0m y_hat, _ \u001b[38;5;241m=\u001b[39m \u001b[43mnet\u001b[49m\u001b[38;5;241;43m.\u001b[39;49m\u001b[43mforward\u001b[49m\u001b[43m(\u001b[49m\u001b[43mx\u001b[49m\u001b[43m,\u001b[49m\u001b[43m \u001b[49m\u001b[43my_in\u001b[49m\u001b[43m,\u001b[49m\u001b[43m \u001b[49m\u001b[43mx_len\u001b[49m\u001b[43m)\u001b[49m\n\u001b[1;32m    156\u001b[0m l \u001b[38;5;241m=\u001b[39m loss\u001b[38;5;241m.\u001b[39mforward(y_hat, y, y_len)\n\u001b[1;32m    157\u001b[0m l\u001b[38;5;241m.\u001b[39msum()\u001b[38;5;241m.\u001b[39mbackward()            \n",
      "File \u001b[0;32m~/naml/naml/modules/sequence.py:126\u001b[0m, in \u001b[0;36mEncoderDecoder.forward\u001b[0;34m(self, X_enc, X_dec, *decoder_args)\u001b[0m\n\u001b[1;32m    124\u001b[0m \u001b[38;5;28;01mdef\u001b[39;00m\u001b[38;5;250m \u001b[39m\u001b[38;5;21mforward\u001b[39m(\u001b[38;5;28mself\u001b[39m, X_enc : torch\u001b[38;5;241m.\u001b[39mTensor, X_dec : torch\u001b[38;5;241m.\u001b[39mTensor, \u001b[38;5;241m*\u001b[39mdecoder_args):\n\u001b[1;32m    125\u001b[0m \u001b[38;5;250m    \u001b[39m\u001b[38;5;124;03m'''X_enc[batch_size, num_steps], X_dec[batch_size, num_steps]'''\u001b[39;00m\n\u001b[0;32m--> 126\u001b[0m     Y_enc, H_enc \u001b[38;5;241m=\u001b[39m \u001b[38;5;28;43mself\u001b[39;49m\u001b[38;5;241;43m.\u001b[39;49m\u001b[43mencoder\u001b[49m\u001b[43m(\u001b[49m\u001b[43mX_enc\u001b[49m\u001b[43m)\u001b[49m        \n\u001b[1;32m    127\u001b[0m     \u001b[38;5;28;01mreturn\u001b[39;00m \u001b[38;5;28mself\u001b[39m\u001b[38;5;241m.\u001b[39mdecoder(X_dec, H_enc, Y_enc, \u001b[38;5;241m*\u001b[39mdecoder_args)\n",
      "File \u001b[0;32m~/miniconda3/envs/torch/lib/python3.10/site-packages/torch/nn/modules/module.py:1739\u001b[0m, in \u001b[0;36mModule._wrapped_call_impl\u001b[0;34m(self, *args, **kwargs)\u001b[0m\n\u001b[1;32m   1737\u001b[0m     \u001b[38;5;28;01mreturn\u001b[39;00m \u001b[38;5;28mself\u001b[39m\u001b[38;5;241m.\u001b[39m_compiled_call_impl(\u001b[38;5;241m*\u001b[39margs, \u001b[38;5;241m*\u001b[39m\u001b[38;5;241m*\u001b[39mkwargs)  \u001b[38;5;66;03m# type: ignore[misc]\u001b[39;00m\n\u001b[1;32m   1738\u001b[0m \u001b[38;5;28;01melse\u001b[39;00m:\n\u001b[0;32m-> 1739\u001b[0m     \u001b[38;5;28;01mreturn\u001b[39;00m \u001b[38;5;28;43mself\u001b[39;49m\u001b[38;5;241;43m.\u001b[39;49m\u001b[43m_call_impl\u001b[49m\u001b[43m(\u001b[49m\u001b[38;5;241;43m*\u001b[39;49m\u001b[43margs\u001b[49m\u001b[43m,\u001b[49m\u001b[43m \u001b[49m\u001b[38;5;241;43m*\u001b[39;49m\u001b[38;5;241;43m*\u001b[39;49m\u001b[43mkwargs\u001b[49m\u001b[43m)\u001b[49m\n",
      "File \u001b[0;32m~/miniconda3/envs/torch/lib/python3.10/site-packages/torch/nn/modules/module.py:1750\u001b[0m, in \u001b[0;36mModule._call_impl\u001b[0;34m(self, *args, **kwargs)\u001b[0m\n\u001b[1;32m   1745\u001b[0m \u001b[38;5;66;03m# If we don't have any hooks, we want to skip the rest of the logic in\u001b[39;00m\n\u001b[1;32m   1746\u001b[0m \u001b[38;5;66;03m# this function, and just call forward.\u001b[39;00m\n\u001b[1;32m   1747\u001b[0m \u001b[38;5;28;01mif\u001b[39;00m \u001b[38;5;129;01mnot\u001b[39;00m (\u001b[38;5;28mself\u001b[39m\u001b[38;5;241m.\u001b[39m_backward_hooks \u001b[38;5;129;01mor\u001b[39;00m \u001b[38;5;28mself\u001b[39m\u001b[38;5;241m.\u001b[39m_backward_pre_hooks \u001b[38;5;129;01mor\u001b[39;00m \u001b[38;5;28mself\u001b[39m\u001b[38;5;241m.\u001b[39m_forward_hooks \u001b[38;5;129;01mor\u001b[39;00m \u001b[38;5;28mself\u001b[39m\u001b[38;5;241m.\u001b[39m_forward_pre_hooks\n\u001b[1;32m   1748\u001b[0m         \u001b[38;5;129;01mor\u001b[39;00m _global_backward_pre_hooks \u001b[38;5;129;01mor\u001b[39;00m _global_backward_hooks\n\u001b[1;32m   1749\u001b[0m         \u001b[38;5;129;01mor\u001b[39;00m _global_forward_hooks \u001b[38;5;129;01mor\u001b[39;00m _global_forward_pre_hooks):\n\u001b[0;32m-> 1750\u001b[0m     \u001b[38;5;28;01mreturn\u001b[39;00m \u001b[43mforward_call\u001b[49m\u001b[43m(\u001b[49m\u001b[38;5;241;43m*\u001b[39;49m\u001b[43margs\u001b[49m\u001b[43m,\u001b[49m\u001b[43m \u001b[49m\u001b[38;5;241;43m*\u001b[39;49m\u001b[38;5;241;43m*\u001b[39;49m\u001b[43mkwargs\u001b[49m\u001b[43m)\u001b[49m\n\u001b[1;32m   1752\u001b[0m result \u001b[38;5;241m=\u001b[39m \u001b[38;5;28;01mNone\u001b[39;00m\n\u001b[1;32m   1753\u001b[0m called_always_called_hooks \u001b[38;5;241m=\u001b[39m \u001b[38;5;28mset\u001b[39m()\n",
      "\u001b[0;31mTypeError\u001b[0m: Encoder.forward() missing 1 required positional argument: 'lens'"
     ]
    },
    {
     "data": {
      "image/png": "[encoded data removed]",
      "text/plain": [
       "<Figure size 640x480 with 1 Axes>"
      ]
     },
     "metadata": {},
     "output_type": "display_data"
    }
   ],
   "source": [
    "from naml.modules.transformer import Encoder, Decoder\n",
    "from naml.modules.sequence import EncoderDecoder\n",
    "n_hidden, num_layers, dropout_p, batch_size, num_steps = 32, 2, 0.1, 64, 10\n",
    "lr, epochs = 0.005, 200\n",
    "ffn_n_in, ffn_n_hidden, n_heads = 32, 64, 4\n",
    "n_keys, n_query, n_values = 32, 32, 32\n",
    "norm_shape = [32]\n",
    "\n",
    "from naml.text import flatten, Vocabulary\n",
    "from naml.dataset import Datasets\n",
    "from naml.dataset.nmt import load_nmt\n",
    "datasets = Datasets(\"~/naml-data\")\n",
    "src_words, target_words = load_nmt(datasets, 'cmn', 'eng', max_examples=500)\n",
    "src_vocab, tgt_vocab = Vocabulary(flatten(src_words)), Vocabulary(flatten(target_words))\n",
    "\n",
    "encoder = Encoder(len(src_vocab), n_keys, n_query, n_values, n_hidden, norm_shape, ffn_n_in, ffn_n_hidden, n_heads, dropout_p, num_layers)\n",
    "decoder = Decoder(len(tgt_vocab), n_keys, n_query, n_values, n_hidden, norm_shape, ffn_n_in, ffn_n_hidden, n_heads, dropout_p, num_layers)\n",
    "net = EncoderDecoder(encoder, decoder)\n",
    "\n",
    "from naml.modules.sequence import train_seq2seq\n",
    "\n",
    "train_seq2seq(net, lr, epochs, src_vocab, tgt_vocab, src_words, target_words, batch_size, num_steps)"
   ]
  }
 ],
 "metadata": {
  "kernelspec": {
   "display_name": "torch",
   "language": "python",
   "name": "python3"
  },
  "language_info": {
   "codemirror_mode": {
    "name": "ipython",
    "version": 3
   },
   "file_extension": ".py",
   "mimetype": "text/x-python",
   "name": "python",
   "nbconvert_exporter": "python",
   "pygments_lexer": "ipython3",
   "version": "3.10.16"
  }
 },
 "nbformat": 4,
 "nbformat_minor": 2
}
