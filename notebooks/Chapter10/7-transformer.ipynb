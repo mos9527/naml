{
 "cells": [
  {
   "cell_type": "code",
   "execution_count": 50,
   "metadata": {},
   "outputs": [
    {
     "name": "stdout",
     "output_type": "stream",
     "text": [
      "The autoreload extension is already loaded. To reload it, use:\n",
      "  %reload_ext autoreload\n"
     ]
    }
   ],
   "source": [
    "%load_ext autoreload\n",
    "%autoreload 2"
   ]
  },
  {
   "cell_type": "markdown",
   "metadata": {},
   "source": [
    "## Transformer\n",
    "It's time.\n",
    "\n",
    "### Encoder Block\n",
    "Attention block with a FFN/MLP and add-norm."
   ]
  },
  {
   "cell_type": "code",
   "execution_count": 51,
   "metadata": {},
   "outputs": [],
   "source": [
    "from naml.modules import torch\n",
    "from naml.modules.transformer import EncoderBlock\n",
    "\n",
    "X = torch.ones((2,100,24))\n",
    "lens = torch.tensor([3,2])\n",
    "blk = EncoderBlock(24, 24, 24, 24, [100, 24], 24, 48,8, 0.5)\n",
    "blk.eval()\n",
    "Y_enc = blk.forward(X, lens)"
   ]
  },
  {
   "cell_type": "markdown",
   "metadata": {},
   "source": [
    "### Encoder\n",
    "Stack of encoder blocks with positional encoding."
   ]
  },
  {
   "cell_type": "code",
   "execution_count": 52,
   "metadata": {},
   "outputs": [
    {
     "data": {
      "text/plain": [
       "torch.Size([2, 100, 24])"
      ]
     },
     "execution_count": 52,
     "metadata": {},
     "output_type": "execute_result"
    }
   ],
   "source": [
    "from naml.modules.transformer import Encoder\n",
    "\n",
    "encoder = Encoder(200, 24, 24, 24, 24, [100, 24], 24, 48, 8, 0.5, 2)\n",
    "encoder.eval()\n",
    "Y_enc, K_states = encoder.forward(torch.ones((2,100)).long(), lens)\n",
    "Y_enc.shape"
   ]
  },
  {
   "cell_type": "markdown",
   "metadata": {},
   "source": [
    "### Decoder Block/Decoder\n",
    "Attention block with a FFN/MLP and add-norm.\n",
    "\n",
    "To ensure self regressive property, the decoder block has an additional attention block that attends to the encoder output."
   ]
  },
  {
   "cell_type": "code",
   "execution_count": 53,
   "metadata": {},
   "outputs": [
    {
     "data": {
      "text/plain": [
       "torch.Size([2, 100, 24])"
      ]
     },
     "execution_count": 53,
     "metadata": {},
     "output_type": "execute_result"
    }
   ],
   "source": [
    "from naml.modules.transformer import DecoderBlock\n",
    "blk = DecoderBlock(24, 24, 24, 24, [100, 24], 24, 48, 8, 0.5)\n",
    "blk.eval()\n",
    "X = torch.ones((2,100,24))\n",
    "Y_dec, K = blk.forward(X, Y_enc, lens, None)\n",
    "Y_dec.shape"
   ]
  },
  {
   "cell_type": "markdown",
   "metadata": {},
   "source": [
    "### Training\n",
    "We'll use `seq2seq` training code again."
   ]
  },
  {
   "cell_type": "code",
   "execution_count": 54,
   "metadata": {},
   "outputs": [
    {
     "data": {
      "image/png": "[encoded data removed]",
      "text/plain": [
       "<Figure size 640x480 with 1 Axes>"
      ]
     },
     "metadata": {},
     "output_type": "display_data"
    },
    {
     "data": {
      "application/vnd.jupyter.widget-view+json": {
       "model_id": "2616ee1a353146dfa577cf5b2bbc70cd",
       "version_major": 2,
       "version_minor": 0
      },
      "text/plain": [
       "Loss:   0%|          | 0/200 [00:00<?, ?it/s]"
      ]
     },
     "metadata": {},
     "output_type": "display_data"
    },
    {
     "data": {
      "text/plain": [
       "<Figure size 640x480 with 0 Axes>"
      ]
     },
     "metadata": {},
     "output_type": "display_data"
    }
   ],
   "source": [
    "from naml.modules.transformer import Encoder, Decoder, EncoderDecoder\n",
    "n_hidden, num_layers, dropout_p, batch_size, num_steps = 32, 2, 0.1, 64, 10\n",
    "lr, epochs = 0.005, 200\n",
    "ffn_n_in, ffn_n_hidden, n_heads = 32, 64, 4\n",
    "n_keys, n_query, n_values = 32, 32, 32\n",
    "norm_shape = [32]\n",
    "\n",
    "from naml.text import flatten, Vocabulary\n",
    "from naml.dataset import Datasets\n",
    "from naml.dataset.nmt import load_nmt\n",
    "datasets = Datasets(\"~/naml-data\")\n",
    "src_words, target_words = load_nmt(datasets, 'cmn', 'eng', max_examples=500)\n",
    "src_vocab, tgt_vocab = Vocabulary(flatten(src_words)), Vocabulary(flatten(target_words))\n",
    "\n",
    "encoder = Encoder(len(src_vocab), n_keys, n_query, n_values, n_hidden, norm_shape, ffn_n_in, ffn_n_hidden, n_heads, dropout_p, num_layers)\n",
    "decoder = Decoder(len(tgt_vocab), n_keys, n_query, n_values, n_hidden, norm_shape, ffn_n_in, ffn_n_hidden, n_heads, dropout_p, num_layers)\n",
    "net = EncoderDecoder(encoder, decoder)\n",
    "\n",
    "from naml.modules.sequence import train_seq2seq\n",
    "\n",
    "train_seq2seq(net, lr, epochs, src_vocab, tgt_vocab, src_words, target_words, batch_size, num_steps)"
   ]
  },
  {
   "cell_type": "markdown",
   "metadata": {},
   "source": [
    "## Prediction\n",
    "Same code again. Used in `seq2seq` & `Bahdanau`"
   ]
  },
  {
   "cell_type": "code",
   "execution_count": 55,
   "metadata": {},
   "outputs": [
    {
     "name": "stdout",
     "output_type": "stream",
     "text": [
      "thanks ! => 谢谢！ <= 谢谢！, 1.0\n",
      "try it . => 试试吧。 <= 试试吧。, 1.0\n",
      "we try . => 我们来试试。 <= 我们来试试。, 1.0\n",
      "why me ? => 为什么是我？ <= 为什么是我？, 1.0\n",
      "ask tom . => 去问汤姆。 <= 去问汤姆。, 1.0\n"
     ]
    },
    {
     "data": {
      "text/plain": [
       "'为什么是我？'"
      ]
     },
     "execution_count": 55,
     "metadata": {},
     "output_type": "execute_result"
    }
   ],
   "source": [
    "from naml.dataset.nmt import nmt_tokenizer\n",
    "from naml.modules.sequence import predict_seq2seq\n",
    "from naml.sequence import bleu\n",
    "def from_src_string(src : str):\n",
    "    src_indices = nmt_tokenizer(src.lower())\n",
    "    src_indices = src_vocab.to_indices(src_indices)    \n",
    "    src_indices = src_vocab.truncate_pad(src_indices, num_steps).long()    \n",
    "    return src_indices        \n",
    "for i in range(20,25):\n",
    "    src = ' '.join(src_words[i])\n",
    "    tgt = ' '.join(target_words[i])\n",
    "    pred = list(predict_seq2seq(net, from_src_string(src), tgt_vocab, num_steps))\n",
    "    score = bleu(target_words[i], pred)\n",
    "    print(f'{src} => {\" \".join(pred)} <= {tgt}, {score}')\n",
    "''.join(list(predict_seq2seq(net, from_src_string(\"why you\"), tgt_vocab, num_steps)))\n",
    "# it's not good..."
   ]
  },
  {
   "cell_type": "code",
   "execution_count": 56,
   "metadata": {},
   "outputs": [
    {
     "name": "stdout",
     "output_type": "stream",
     "text": [
      "torch.Size([4, 1, 2])\n"
     ]
    }
   ],
   "source": [
    "from naml.modules import List, torch\n",
    "from naml import plot\n",
    "attn_weights = [blk for blk in net.decoder.blocks]\n",
    "attn_weights : List[DecoderBlock]\n",
    "print(attn_weights[0].attn1.M_w.shape)\n",
    "# attn1_weights = torch.cat([blk.attn1.M_w for blk in attn_weights],dim=0).reshape((num_layers, n_heads, -1, num_steps))\n",
    "# attn2_weights = torch.cat([blk.attn2.M_w for blk in attn_weights],dim=0)\n",
    "# attn1_weights.shape, attn2_weights.shape"
   ]
  }
 ],
 "metadata": {
  "kernelspec": {
   "display_name": "torch",
   "language": "python",
   "name": "python3"
  },
  "language_info": {
   "codemirror_mode": {
    "name": "ipython",
    "version": 3
   },
   "file_extension": ".py",
   "mimetype": "text/x-python",
   "name": "python",
   "nbconvert_exporter": "python",
   "pygments_lexer": "ipython3",
   "version": "3.10.16"
  }
 },
 "nbformat": 4,
 "nbformat_minor": 2
}
