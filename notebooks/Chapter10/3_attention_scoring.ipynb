{
 "cells": [
  {
   "cell_type": "code",
   "execution_count": 31,
   "metadata": {},
   "outputs": [
    {
     "name": "stdout",
     "output_type": "stream",
     "text": [
      "The autoreload extension is already loaded. To reload it, use:\n",
      "  %reload_ext autoreload\n"
     ]
    }
   ],
   "source": [
    "%load_ext autoreload\n",
    "%autoreload 2\n",
    "from naml.modules import torch, nn, optim, tqdm\n",
    "from naml import plot"
   ]
  },
  {
   "cell_type": "markdown",
   "metadata": {},
   "source": [
    "## Sequence masking"
   ]
  },
  {
   "cell_type": "code",
   "execution_count": 32,
   "metadata": {},
   "outputs": [
    {
     "name": "stdout",
     "output_type": "stream",
     "text": [
      "tensor([[0, 1, 2, 3, 4, 5, 6, 7, 8, 9]]) tensor([[0],\n",
      "        [1],\n",
      "        [2],\n",
      "        [3],\n",
      "        [4],\n",
      "        [5],\n",
      "        [6],\n",
      "        [7],\n",
      "        [8],\n",
      "        [9]])\n",
      "tensor([[0, 1, 2, 3, 4, 5, 6, 7, 8, 9]]) tensor([[0],\n",
      "        [1],\n",
      "        [2],\n",
      "        [3],\n",
      "        [4],\n",
      "        [5],\n",
      "        [6],\n",
      "        [7],\n",
      "        [8],\n",
      "        [9]])\n"
     ]
    }
   ],
   "source": [
    "# You can unsqueeze the tensor ..like this?\n",
    "# Adding a singleton dimension of None will add a dimension of size 1\n",
    "a = torch.arange(10)\n",
    "print(a.unsqueeze(0), a.unsqueeze(1))\n",
    "print(a[None, :], a[:, None])"
   ]
  },
  {
   "cell_type": "code",
   "execution_count": 33,
   "metadata": {},
   "outputs": [],
   "source": [
    "from naml.modules.sequence import sequence_mask"
   ]
  },
  {
   "cell_type": "code",
   "execution_count": 34,
   "metadata": {},
   "outputs": [
    {
     "data": {
      "text/plain": [
       "tensor([[1, 2, 0, 0, 0],\n",
       "        [6, 7, 8, 0, 0]])"
      ]
     },
     "execution_count": 34,
     "metadata": {},
     "output_type": "execute_result"
    }
   ],
   "source": [
    "seq = (torch.arange(10) + 1).reshape(2, 5)\n",
    "lens = torch.tensor([2, 3])\n",
    "sequence_mask(seq, lens, 0)"
   ]
  },
  {
   "cell_type": "code",
   "execution_count": 35,
   "metadata": {},
   "outputs": [
    {
     "data": {
      "text/plain": [
       "(tensor([[[0.5768, 0.4232, 0.0000, 0.0000],\n",
       "          [0.4759, 0.5241, 0.0000, 0.0000]],\n",
       " \n",
       "         [[0.3570, 0.2368, 0.4062, 0.0000],\n",
       "          [0.2844, 0.2515, 0.4640, 0.0000]]]),\n",
       " tensor([[[1.0000, 0.0000, 0.0000, 0.0000],\n",
       "          [0.2599, 0.4448, 0.2954, 0.0000]],\n",
       " \n",
       "         [[0.4482, 0.5518, 0.0000, 0.0000],\n",
       "          [0.2988, 0.2714, 0.1581, 0.2717]]]))"
      ]
     },
     "execution_count": 35,
     "metadata": {},
     "output_type": "execute_result"
    }
   ],
   "source": [
    "from naml.modules.sequence import softmax_mask\n",
    "softmax_mask(torch.rand(2, 2, 4), torch.tensor([2, 3])), softmax_mask(torch.rand(2, 2, 4), torch.tensor([[1,3], [2, 4]]))"
   ]
  },
  {
   "cell_type": "markdown",
   "metadata": {},
   "source": [
    "## Additive Attention"
   ]
  },
  {
   "cell_type": "markdown",
   "metadata": {
    "vscode": {
     "languageId": "latex"
    }
   },
   "source": [
    "$$\n",
    "a(\\mathbf{q},\\mathbf{k}) = \\mathbf{w_v}^T \\tanh(\\mathbf{W_q q} + \\mathbf{W_k k})\n",
    "$$\n",
    "\n",
    "Basically a MLP with $W_q, W_k, w_v$ as parameters"
   ]
  },
  {
   "cell_type": "code",
   "execution_count": 36,
   "metadata": {},
   "outputs": [
    {
     "data": {
      "text/plain": [
       "tensor([[[ 2.0000,  3.0000,  4.0000,  5.0000]],\n",
       "\n",
       "        [[10.0000, 11.0000, 12.0000, 13.0000]]], grad_fn=<UnsafeViewBackward0>)"
      ]
     },
     "execution_count": 36,
     "metadata": {},
     "output_type": "execute_result"
    }
   ],
   "source": [
    "from naml.modules.attention import AdditiveAttention\n",
    "\n",
    "q, k = torch.normal(0, 1, (2, 1, 20)), torch.ones((2,10,2))\n",
    "v = torch.arange(40).reshape(1, 10, 4).repeat(2, 1, 1).float() # Tiles\n",
    "lens = torch.tensor([2, 6])\n",
    "attn = AdditiveAttention(n_key=2, n_query=20, n_hidden=8, dropout_p=0.1)\n",
    "attn.eval() # No grad & no dropout\n",
    "attn(q, k, v, lens)"
   ]
  },
  {
   "cell_type": "code",
   "execution_count": 37,
   "metadata": {},
   "outputs": [
    {
     "data": {
      "image/png": "[encoded data removed]",
      "text/plain": [
       "<Figure size 640x480 with 2 Axes>"
      ]
     },
     "metadata": {},
     "output_type": "display_data"
    }
   ],
   "source": [
    "plot.heatmap(attn.M_w.reshape((2,10)),label_x=\"Keys\",label_y=\"Queries\")"
   ]
  },
  {
   "cell_type": "markdown",
   "metadata": {},
   "source": [
    "## Dot Product Attention\n",
    "$$a(\\mathbf{q,k}) = \\frac{\\mathbf{Q} \\mathbf{K}^T}{\\sqrt{d}}, \\text{where}\\ \\mathbf{d}\\ \\text{is sequence length for both query and key}$$"
   ]
  },
  {
   "cell_type": "code",
   "execution_count": 38,
   "metadata": {},
   "outputs": [
    {
     "data": {
      "text/plain": [
       "tensor([[[ 2.0000,  3.0000,  4.0000,  5.0000]],\n",
       "\n",
       "        [[10.0000, 11.0000, 12.0000, 13.0000]]])"
      ]
     },
     "execution_count": 38,
     "metadata": {},
     "output_type": "execute_result"
    }
   ],
   "source": [
    "from naml.modules.attention import DotProductAttention\n",
    "   \n",
    "q = torch.normal(0, 1, (2, 1, 2))\n",
    "attn = DotProductAttention(dropout_p=0.1)\n",
    "attn.eval() # No grad & no dropout\n",
    "attn(q, k, v, lens)"
   ]
  },
  {
   "cell_type": "code",
   "execution_count": 39,
   "metadata": {},
   "outputs": [
    {
     "data": {
      "image/png": "[encoded data removed]",
      "text/plain": [
       "<Figure size 640x480 with 2 Axes>"
      ]
     },
     "metadata": {},
     "output_type": "display_data"
    }
   ],
   "source": [
    "plot.heatmap(attn.M_w.reshape((2,10)),label_x=\"Keys\",label_y=\"Queries\")"
   ]
  },
  {
   "cell_type": "markdown",
   "metadata": {},
   "source": [
    "- With the same query key length Dot Prod & Additive are equivalent\n",
    "- Dot Prod is more efficient in this case "
   ]
  }
 ],
 "metadata": {
  "kernelspec": {
   "display_name": "torch",
   "language": "python",
   "name": "python3"
  },
  "language_info": {
   "codemirror_mode": {
    "name": "ipython",
    "version": 3
   },
   "file_extension": ".py",
   "mimetype": "text/x-python",
   "name": "python",
   "nbconvert_exporter": "python",
   "pygments_lexer": "ipython3",
   "version": "3.10.16"
  }
 },
 "nbformat": 4,
 "nbformat_minor": 2
}
