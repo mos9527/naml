{
 "cells": [
  {
   "cell_type": "code",
   "execution_count": 42,
   "metadata": {},
   "outputs": [
    {
     "name": "stdout",
     "output_type": "stream",
     "text": [
      "The autoreload extension is already loaded. To reload it, use:\n",
      "  %reload_ext autoreload\n"
     ]
    },
    {
     "data": {
      "text/plain": [
       "('the time machine by h g wells',\n",
       " 'twinkled and his usually pale face was flushed and animated the')"
      ]
     },
     "execution_count": 42,
     "metadata": {},
     "output_type": "execute_result"
    }
   ],
   "source": [
    "%load_ext autoreload\n",
    "%autoreload 2\n",
    "from naml.dataset import Datasets, DatasetRemote\n",
    "datasets = Datasets(\"~/naml-data\")\n",
    "import re\n",
    "\n",
    "lines = datasets.fetch(DatasetRemote(\n",
    "    \"timemachine\",\"http://d2l-data.s3-accelerate.amazonaws.com/timemachine.txt\"\n",
    ")).readlines()\n",
    "\n",
    "lines = [re.sub('[^A-Za-z]+', ' ', line).strip().lower() for line in lines]\n",
    "lines[0], lines[10]"
   ]
  },
  {
   "cell_type": "code",
   "execution_count": 43,
   "metadata": {},
   "outputs": [
    {
     "name": "stdout",
     "output_type": "stream",
     "text": [
      "(' ', 29927) ('e', 17838) ('t', 13515) ('a', 11704) ('i', 10138) ('n', 9917) ('o', 9758) ('s', 8486) ('h', 8257) ('r', 7674)\n"
     ]
    }
   ],
   "source": [
    "from naml.text import Vocabulary\n",
    "tokens = Vocabulary.tokenize_char(lines)\n",
    "corpus = Vocabulary.to_corpus(tokens)\n",
    "vocab = Vocabulary(corpus)\n",
    "print(*zip(vocab.top_tokens[:10],vocab.freqs(vocab.top_tokens[:10])))"
   ]
  },
  {
   "cell_type": "markdown",
   "metadata": {},
   "source": [
    "## RNN\n",
    "$$\n",
    "\\mathbf{H_t} = \\phi(\\mathbf{X_t}\\mathbf{W_{xh}} + \\mathbf{H_{t-1}}\\mathbf{W_{hh}} + \\mathbf{b_h}) \\\\\n",
    "\\mathbf{Y_t} = \\mathbf{H_t}\\mathbf{W_{ho}} + \\mathbf{b_o}\n",
    "$$\n",
    "$$\n",
    "\\mathbf{H} = \\text{hidden state} \\\\\n",
    "\\mathbf{X} = \\text{input} \\\\\n",
    "\\mathbf{Y} = \\text{output} \\\\\n",
    "\\mathbf{W_{xh}} = \\text{input weight}\\ \\mathbf{W_{hh}} = \\text{hidden weight}\\ \\mathbf{W_{ho}} = \\text{output weight}\\ \\mathbf{b_h} = \\text{hidden bias}\\ \\mathbf{b_o} = \\text{output bias}\n",
    "$$"
   ]
  },
  {
   "cell_type": "code",
   "execution_count": null,
   "metadata": {},
   "outputs": [
    {
     "data": {
      "text/plain": [
       "'time traveller naxxxxxxxx'"
      ]
     },
     "execution_count": 53,
     "metadata": {},
     "output_type": "execute_result"
    }
   ],
   "source": [
    "from naml.modules import nn, torch\n",
    "\n",
    "class RNN(nn.Module):\n",
    "    # GRU for implementation\n",
    "    def __init__(self, vocab_size, num_hiddens, num_layers):\n",
    "        super().__init__()\n",
    "        self.vocab_size, self.num_hiddens, self.num_layers = vocab_size, num_hiddens, num_layers\n",
    "        self.rnn = nn.GRU(vocab_size, num_hiddens, num_layers)\n",
    "        self.dense = nn.Linear(num_hiddens, vocab_size)       \n",
    "\n",
    "    def forward(self, X : torch.Tensor, H : torch.Tensor):\n",
    "        # X[timestep,batch_size,vocab_size]\n",
    "        X = nn.functional.one_hot(X.T.long(), self.vocab_size).float()\n",
    "        Y, H = self.rnn(X, H)\n",
    "        # Y[timestep,batch_size,num_hiddens]\n",
    "        Y = Y.reshape(-1, Y.shape[-1])\n",
    "        # Y[timestep*batch_size,num_hiddens]\n",
    "        Y = self.dense(Y)        \n",
    "        return Y, H\n",
    "    \n",
    "    def begin_state(self, device : torch.device, batch_size : int):\n",
    "        return torch.zeros((self.num_layers, batch_size, self.num_hiddens), device=device)\n",
    "\n",
    "device = torch.device('cpu')\n",
    "net = RNN(len(vocab), 256, 1)\n",
    "net = net.to(device)\n",
    "def predict(net, prefix, num_preds):\n",
    "    H = net.begin_state(device, 1)\n",
    "    prefix = vocab.tokenize_char([prefix])[0]\n",
    "    output = [vocab[prefix[0]][0]]\n",
    "    # Hidden state warmup\n",
    "    for token in prefix[1:]:\n",
    "        X = torch.tensor([[output[-1]]], device=device).reshape((1,1))\n",
    "        Y, H = net(X, H)\n",
    "        output.append(vocab[token][0])\n",
    "    # Predictions\n",
    "    for pred in range(num_preds):\n",
    "        X = torch.tensor([[output[-1]]], device=device).reshape((1,1))\n",
    "        Y, H = net(X, H)\n",
    "        Y : torch.Tensor = Y.squeeze(0)\n",
    "        output.append(int(Y.argmax(0)))\n",
    "    return ''.join([vocab.ivocab[i] for i in output])\n",
    "\n",
    "predict(net, 'time traveller ', 10)"
   ]
  },
  {
   "cell_type": "markdown",
   "metadata": {},
   "source": [
    "## Perplexity\n",
    "$$\n",
    "\\text{Perplexity} = \\exp\\left(-\\frac{1}{N}\\sum_{i=1}^{N}\\log p(x_i)\\right),\\text {or equivalently} \\ \\exp(\\text{nn.CrossEntropyLoss}\\ \\text{with mean reduction})\n",
    "$$\n"
   ]
  },
  {
   "cell_type": "code",
   "execution_count": null,
   "metadata": {},
   "outputs": [
    {
     "data": {
      "image/png": "[encoded data removed]",
      "text/plain": [
       "<Figure size 640x480 with 1 Axes>"
      ]
     },
     "metadata": {},
     "output_type": "display_data"
    },
    {
     "data": {
      "application/vnd.jupyter.widget-view+json": {
       "model_id": "8b2d90e949e0412daae879089f6a6d58",
       "version_major": 2,
       "version_minor": 0
      },
      "text/plain": [
       "  0%|          | 0/500 [00:00<?, ?it/s]"
      ]
     },
     "metadata": {},
     "output_type": "display_data"
    },
    {
     "name": "stdout",
     "output_type": "stream",
     "text": [
      "time i saw manythink down the shart well as a crightin\r"
     ]
    },
    {
     "data": {
      "text/plain": [
       "<Figure size 640x480 with 0 Axes>"
      ]
     },
     "metadata": {},
     "output_type": "display_data"
    }
   ],
   "source": [
    "import math\n",
    "from naml.plot import tqdm\n",
    "from naml.sequence import seq_partition_sample_sequential\n",
    "from naml.util import run_epochs\n",
    "corpus_indices = vocab.to_indices(corpus)\n",
    "\n",
    "batch_size, num_steps = 32, 35\n",
    "\n",
    "net = RNN(len(vocab), 256, 1)\n",
    "net = net.to(device)\n",
    "# XXX: Grad clipping\n",
    "def train(net, lr, num_epochs):\n",
    "    loss = nn.CrossEntropyLoss()\n",
    "    optim = torch.optim.SGD(net.parameters(), lr=lr)\n",
    "    @run_epochs(\"Perplexity\")\n",
    "    def train_epoch():\n",
    "        H = net.begin_state(device, batch_size)                \n",
    "        loss_sum, count = 0, 0\n",
    "        train_iter = seq_partition_sample_sequential(corpus_indices, batch_size, num_steps)\n",
    "        for X, Y in train_iter:\n",
    "            H.detach_() # Hidden parameters are not to be update\n",
    "    \n",
    "            y = Y.T.reshape(-1) # [batch_1_step_1, batch_2_step_1, ...]\n",
    "            X = X.to(device)\n",
    "            y = y.to(device)\n",
    "            Y_hat, H = net(X, H)\n",
    "            l = loss(Y_hat, y.long()).mean()\n",
    "            optim.zero_grad()\n",
    "            l.backward()\n",
    "            optim.step()        \n",
    "            loss_sum += l.detach() * y.numel()\n",
    "            count += y.numel()\n",
    "        print(predict(net, \"time\", 50), end='\\r')\n",
    "        return math.exp(loss_sum/count)\n",
    "    train_epoch(num_epochs)\n",
    "\n",
    "train(net, 1, 500)"
   ]
  },
  {
   "cell_type": "code",
   "execution_count": null,
   "metadata": {},
   "outputs": [
    {
     "data": {
      "text/plain": [
       "'dont sudgession of are at which i entered at that my story stire and the way machine has grown inter came'"
      ]
     },
     "execution_count": 20,
     "metadata": {},
     "output_type": "execute_result"
    }
   ],
   "source": [
    "predict(net, 'dont ', 100)"
   ]
  }
 ],
 "metadata": {
  "kernelspec": {
   "display_name": "venv",
   "language": "python",
   "name": "python3"
  },
  "language_info": {
   "codemirror_mode": {
    "name": "ipython",
    "version": 3
   },
   "file_extension": ".py",
   "mimetype": "text/x-python",
   "name": "python",
   "nbconvert_exporter": "python",
   "pygments_lexer": "ipython3",
   "version": "3.12.8"
  }
 },
 "nbformat": 4,
 "nbformat_minor": 2
}
