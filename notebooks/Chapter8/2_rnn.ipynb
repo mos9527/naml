{
 "cells": [
  {
   "cell_type": "code",
   "execution_count": 1,
   "metadata": {},
   "outputs": [
    {
     "data": {
      "text/plain": [
       "('伦太郎 现在开始对 ワ 作战的概要进行说明', '伦太郎 咕咕咕,真是每次都要抬杠啊 克里斯蒂娜 你实在不理解人类的心理')"
      ]
     },
     "execution_count": 1,
     "metadata": {},
     "output_type": "execute_result"
    }
   ],
   "source": [
    "%load_ext autoreload\n",
    "%autoreload 2\n",
    "from naml.dataset import Datasets, DatasetRemote\n",
    "datasets = Datasets(\"~/naml-data\")\n",
    "import re\n",
    "\n",
    "timemachine = DatasetRemote(\"timemachine\",\"http://d2l-data.s3-accelerate.amazonaws.com/timemachine.txt\")\n",
    "steinsgate = DatasetRemote(\"steinsgate\",\"https://raw.githubusercontent.com/mos9527/sghd-patch-zhs/refs/heads/master/scripts/script/0x52_SG04_24.SCX.txt\")\n",
    "lines = datasets.fetch(steinsgate).readlines()\n",
    "\n",
    "lines = [re.sub('[\\[\\]「『 』」%=0-9a-zA-Z\"\\ ]+', ' ', line).strip() for line in lines]\n",
    "lines[0], lines[10]"
   ]
  },
  {
   "cell_type": "code",
   "execution_count": 3,
   "metadata": {},
   "outputs": [
    {
     "name": "stdout",
     "output_type": "stream",
     "text": [
      "(' ', 194) ('的', 104) ('⋯', 100) (',', 76) ('我', 74) ('。', 64) ('是', 60) ('不', 60) ('莉', 59) ('红', 53)\n"
     ]
    }
   ],
   "source": [
    "from naml.text import Vocabulary, flatten, tokenize_char\n",
    "tokens = tokenize_char(lines)\n",
    "corpus = flatten(tokens)\n",
    "vocab = Vocabulary(corpus)\n",
    "print(*zip(vocab.top_tokens[:10],vocab.freqs(vocab.top_tokens[:10])))"
   ]
  },
  {
   "cell_type": "markdown",
   "metadata": {},
   "source": [
    "## RNN\n",
    "$$\n",
    "\\mathbf{H_t} = \\phi(\\mathbf{X_t}\\mathbf{W_{xh}} + \\mathbf{H_{t-1}}\\mathbf{W_{hh}} + \\mathbf{b_h}) \\\\\n",
    "\\mathbf{Y_t} = \\mathbf{H_t}\\mathbf{W_{ho}} + \\mathbf{b_o}\n",
    "$$\n",
    "$$\n",
    "\\mathbf{H} = \\text{hidden state} \\\\\n",
    "\\mathbf{X} = \\text{input} \\\\\n",
    "\\mathbf{Y} = \\text{output} \\\\\n",
    "\\mathbf{W_{xh}} = \\text{input weight}\\ \\mathbf{W_{hh}} = \\text{hidden weight}\\ \\mathbf{W_{ho}} = \\text{output weight}\\ \\\\\n",
    "\\mathbf{b_h} = \\text{hidden bias}\\ \\mathbf{b_o} = \\text{output bias}\n",
    "$$"
   ]
  },
  {
   "cell_type": "code",
   "execution_count": 4,
   "metadata": {},
   "outputs": [
    {
     "data": {
      "text/plain": [
       "'是我铃美世说铃铃说铃说铃'"
      ]
     },
     "execution_count": 4,
     "metadata": {},
     "output_type": "execute_result"
    }
   ],
   "source": [
    "from naml.modules import nn, torch\n",
    "\n",
    "class RNN(nn.Module):\n",
    "    # GRU for implementation\n",
    "    def __init__(self, vocab_size, num_hiddens, num_layers):\n",
    "        super().__init__()\n",
    "        self.vocab_size, self.num_hiddens, self.num_layers = vocab_size, num_hiddens, num_layers\n",
    "        self.rnn = nn.GRU(vocab_size, num_hiddens, num_layers)\n",
    "        self.dense = nn.Linear(num_hiddens, vocab_size)       \n",
    "\n",
    "    def forward(self, X : torch.Tensor, H : torch.Tensor):        \n",
    "        # X[batch_size, num_steps]\n",
    "        X = nn.functional.one_hot(X.T.long(), self.vocab_size).float()\n",
    "        # X[batch_size, num_steps, vocab_size]\n",
    "        Y, H = self.rnn(X, H)\n",
    "        # Y[batch_size, num_steps, num_hiddens], H[num_layers, batch_size, num_hiddens]\n",
    "        Y = Y.reshape(-1, Y.shape[-1])\n",
    "        # Y[batch_size*num_steps, num_hiddens]\n",
    "        Y = self.dense(Y)        \n",
    "        return Y, H\n",
    "    \n",
    "    def begin_state(self, device : torch.device, batch_size : int):\n",
    "        return torch.zeros((self.num_layers, batch_size, self.num_hiddens), device=device)\n",
    "\n",
    "device = torch.device('cpu')\n",
    "net = RNN(len(vocab), 256, 1)\n",
    "net = net.to(device)\n",
    "def predict(net, prefix, num_preds):\n",
    "    H = net.begin_state(device, 1)\n",
    "    prefix = tokenize_char([prefix])[0]\n",
    "    output = [vocab[prefix[0]][0]]\n",
    "    # Hidden state warmup\n",
    "    for token in prefix[1:]:\n",
    "        X = torch.tensor([[output[-1]]], device=device).reshape((1,1))\n",
    "        Y, H = net(X, H)\n",
    "        output.append(vocab[token][0])\n",
    "    # Predictions\n",
    "    for pred in range(num_preds):\n",
    "        X = torch.tensor([[output[-1]]], device=device).reshape((1,1))\n",
    "        Y, H = net(X, H)\n",
    "        Y : torch.Tensor = Y.squeeze(0)\n",
    "        output.append(int(Y.argmax(0)))\n",
    "    return ''.join([vocab.ivocab[i] for i in output])\n",
    "\n",
    "predict(net, '是我', 10)"
   ]
  },
  {
   "cell_type": "markdown",
   "metadata": {},
   "source": [
    "## Perplexity\n",
    "$$\n",
    "\\text{Perplexity} = \\exp\\left(-\\frac{1}{N}\\sum_{i=1}^{N}\\log p(x_i)\\right),\\text {or equivalently} \\ \\exp(\\text{nn.CrossEntropyLoss}\\ \\text{with mean reduction})\n",
    "$$\n"
   ]
  },
  {
   "cell_type": "code",
   "execution_count": 5,
   "metadata": {},
   "outputs": [
    {
     "data": {
      "image/png": "[encoded data removed]",
      "text/plain": [
       "<Figure size 640x480 with 1 Axes>"
      ]
     },
     "metadata": {},
     "output_type": "display_data"
    },
    {
     "data": {
      "application/vnd.jupyter.widget-view+json": {
       "model_id": "820c44a35add4165adaaf4c14a72b7aa",
       "version_major": 2,
       "version_minor": 0
      },
      "text/plain": [
       "  0%|          | 0/500 [00:00<?, ?it/s]"
      ]
     },
     "metadata": {},
     "output_type": "display_data"
    },
    {
     "name": "stdout",
     "output_type": "stream",
     "text": [
      "是我不是,我没有在她你的事后的⋯⋯伦太郎 什么⋯⋯?红莉栖 你之以为为你不过做的事,我不是真心在担红莉栖\r"
     ]
    },
    {
     "data": {
      "text/plain": [
       "<Figure size 640x480 with 0 Axes>"
      ]
     },
     "metadata": {},
     "output_type": "display_data"
    }
   ],
   "source": [
    "import math\n",
    "from naml.plot import tqdm\n",
    "from naml.sequence import seq_partition_sample_2D_sequential_iter\n",
    "from naml.util import run_epochs\n",
    "corpus_indices = vocab.to_indices(corpus)\n",
    "\n",
    "batch_size, num_steps = 32, 35\n",
    "\n",
    "net = RNN(len(vocab), 256, 1)\n",
    "net = net.to(device)\n",
    "# XXX: Grad clipping\n",
    "def train(net, lr, num_epochs):\n",
    "    loss = nn.CrossEntropyLoss()\n",
    "    optim = torch.optim.SGD(net.parameters(), lr=lr)\n",
    "    @run_epochs(\"Perplexity\")\n",
    "    def train_epoch():\n",
    "        # XXX: Need to reset X when training with random sampling? Why?\n",
    "        H = net.begin_state(device, batch_size)                \n",
    "        loss_sum, count = 0, 0\n",
    "        train_iter = seq_partition_sample_2D_sequential_iter(corpus_indices, batch_size, num_steps)\n",
    "        for X, Y in train_iter:\n",
    "            H.detach_() # Hidden parameters are not to be updated\n",
    "    \n",
    "            y = Y.T.reshape(-1) # [batch_1_step_1, batch_2_step_1, ...], matches X.T.reshape(-1)\n",
    "            X = X.to(device)\n",
    "            y = y.to(device)\n",
    "            Y_hat, H = net(X, H)\n",
    "            l = loss(Y_hat, y.long()).mean()\n",
    "            optim.zero_grad()\n",
    "            l.backward()\n",
    "            optim.step()        \n",
    "            loss_sum += l.detach() * y.numel()\n",
    "            count += y.numel()\n",
    "        print(predict(net, \"是我\", 50), end='\\r')\n",
    "        return math.exp(loss_sum/count)\n",
    "    train_epoch(num_epochs)\n",
    "\n",
    "train(net, 1, 500)"
   ]
  },
  {
   "cell_type": "code",
   "execution_count": 6,
   "metadata": {},
   "outputs": [
    {
     "data": {
      "text/plain": [
       "'白痴⋯⋯伦太郎 什么⋯⋯?红莉栖 你之以为为你不过做的事,我不是真心在担红莉栖 我听想,你那我越你伦太郎 嗯红莉栖 怎么说呢,我挺羡慕这种说起来这家伙,这实⋯⋯伦太郎 我说电一下 不许⋯⋯伦太郎 真是现在'"
      ]
     },
     "execution_count": 6,
     "metadata": {},
     "output_type": "execute_result"
    }
   ],
   "source": [
    "predict(net, '白痴', 100)"
   ]
  }
 ],
 "metadata": {
  "kernelspec": {
   "display_name": "torch",
   "language": "python",
   "name": "python3"
  },
  "language_info": {
   "codemirror_mode": {
    "name": "ipython",
    "version": 3
   },
   "file_extension": ".py",
   "mimetype": "text/x-python",
   "name": "python",
   "nbconvert_exporter": "python",
   "pygments_lexer": "ipython3",
   "version": "3.10.16"
  }
 },
 "nbformat": 4,
 "nbformat_minor": 2
}
