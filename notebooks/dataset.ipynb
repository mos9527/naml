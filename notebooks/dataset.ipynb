{
 "cells": [
  {
   "cell_type": "code",
   "execution_count": 2,
   "metadata": {},
   "outputs": [
    {
     "data": {
      "application/vnd.jupyter.widget-view+json": {
       "model_id": "b3225028be624a3da7a31c3bd6eaf057",
       "version_major": 2,
       "version_minor": 0
      },
      "text/plain": [
       "mnist:   0%|          | 0.00/9.91M [00:00<?, ?B/s]"
      ]
     },
     "metadata": {},
     "output_type": "display_data"
    },
    {
     "name": "stdout",
     "output_type": "stream",
     "text": [
      "DatasetLocal(path='/Users/mos9527/naml-data/.temp/mnist', last_updated=1741486842.796938)\n"
     ]
    }
   ],
   "source": [
    "from naml.dataset import DatasetRemote, Datasets\n",
    "session = Datasets(\"~/naml-data\")\n",
    "session.clear()\n",
    "dataset = session.fetch(\n",
    "    DatasetRemote(\n",
    "        \"mnist\",\n",
    "        \"https://ossci-datasets.s3.amazonaws.com/mnist/train-images-idx3-ubyte.gz\"\n",
    "    )\n",
    ")\n",
    "session.join()\n",
    "session.save()\n",
    "print(dataset)"
   ]
  }
 ],
 "metadata": {
  "kernelspec": {
   "display_name": "torch",
   "language": "python",
   "name": "python3"
  },
  "language_info": {
   "codemirror_mode": {
    "name": "ipython",
    "version": 3
   },
   "file_extension": ".py",
   "mimetype": "text/x-python",
   "name": "python",
   "nbconvert_exporter": "python",
   "pygments_lexer": "ipython3",
   "version": "3.10.16"
  }
 },
 "nbformat": 4,
 "nbformat_minor": 2
}
